{
 "cells": [
  {
   "cell_type": "code",
   "execution_count": 157,
   "metadata": {
    "collapsed": true
   },
   "outputs": [],
   "source": [
    "import pandas as pd\n",
    "import json \n",
    "import re"
   ]
  },
  {
   "cell_type": "code",
   "execution_count": 158,
   "metadata": {
    "collapsed": true
   },
   "outputs": [],
   "source": [
    "credits = pd.read_csv('tmdb_5000_credits.csv')\n",
    "movies = pd.read_csv('tmdb_5000_movies.csv')"
   ]
  },
  {
   "cell_type": "markdown",
   "metadata": {},
   "source": [
    "ESERCIZIO PUNTO UNO\n",
    " number of cast members"
   ]
  },
  {
   "cell_type": "code",
   "execution_count": 159,
   "metadata": {
    "collapsed": true
   },
   "outputs": [],
   "source": [
    "array = []\n",
    "\n",
    "for i in range(len(credits)):\n",
    "    temp = json.loads(credits.cast[i])\n",
    "    array.append(len(temp))\n",
    "credits['n_cast_members'] = array"
   ]
  },
  {
   "cell_type": "code",
   "execution_count": 160,
   "metadata": {},
   "outputs": [
    {
     "data": {
      "text/html": [
       "<div>\n",
       "<style>\n",
       "    .dataframe thead tr:only-child th {\n",
       "        text-align: right;\n",
       "    }\n",
       "\n",
       "    .dataframe thead th {\n",
       "        text-align: left;\n",
       "    }\n",
       "\n",
       "    .dataframe tbody tr th {\n",
       "        vertical-align: top;\n",
       "    }\n",
       "</style>\n",
       "<table border=\"1\" class=\"dataframe\">\n",
       "  <thead>\n",
       "    <tr style=\"text-align: right;\">\n",
       "      <th></th>\n",
       "      <th>movie_id</th>\n",
       "      <th>title</th>\n",
       "      <th>cast</th>\n",
       "      <th>crew</th>\n",
       "      <th>n_cast_members</th>\n",
       "    </tr>\n",
       "  </thead>\n",
       "  <tbody>\n",
       "    <tr>\n",
       "      <th>0</th>\n",
       "      <td>19995</td>\n",
       "      <td>Avatar</td>\n",
       "      <td>[{\"cast_id\": 242, \"character\": \"Jake Sully\", \"...</td>\n",
       "      <td>[{\"credit_id\": \"52fe48009251416c750aca23\", \"de...</td>\n",
       "      <td>83</td>\n",
       "    </tr>\n",
       "    <tr>\n",
       "      <th>1</th>\n",
       "      <td>285</td>\n",
       "      <td>Pirates of the Caribbean: At World's End</td>\n",
       "      <td>[{\"cast_id\": 4, \"character\": \"Captain Jack Spa...</td>\n",
       "      <td>[{\"credit_id\": \"52fe4232c3a36847f800b579\", \"de...</td>\n",
       "      <td>34</td>\n",
       "    </tr>\n",
       "    <tr>\n",
       "      <th>2</th>\n",
       "      <td>206647</td>\n",
       "      <td>Spectre</td>\n",
       "      <td>[{\"cast_id\": 1, \"character\": \"James Bond\", \"cr...</td>\n",
       "      <td>[{\"credit_id\": \"54805967c3a36829b5002c41\", \"de...</td>\n",
       "      <td>83</td>\n",
       "    </tr>\n",
       "    <tr>\n",
       "      <th>3</th>\n",
       "      <td>49026</td>\n",
       "      <td>The Dark Knight Rises</td>\n",
       "      <td>[{\"cast_id\": 2, \"character\": \"Bruce Wayne / Ba...</td>\n",
       "      <td>[{\"credit_id\": \"52fe4781c3a36847f81398c3\", \"de...</td>\n",
       "      <td>158</td>\n",
       "    </tr>\n",
       "    <tr>\n",
       "      <th>4</th>\n",
       "      <td>49529</td>\n",
       "      <td>John Carter</td>\n",
       "      <td>[{\"cast_id\": 5, \"character\": \"John Carter\", \"c...</td>\n",
       "      <td>[{\"credit_id\": \"52fe479ac3a36847f813eaa3\", \"de...</td>\n",
       "      <td>27</td>\n",
       "    </tr>\n",
       "  </tbody>\n",
       "</table>\n",
       "</div>"
      ],
      "text/plain": [
       "   movie_id                                     title  \\\n",
       "0     19995                                    Avatar   \n",
       "1       285  Pirates of the Caribbean: At World's End   \n",
       "2    206647                                   Spectre   \n",
       "3     49026                     The Dark Knight Rises   \n",
       "4     49529                               John Carter   \n",
       "\n",
       "                                                cast  \\\n",
       "0  [{\"cast_id\": 242, \"character\": \"Jake Sully\", \"...   \n",
       "1  [{\"cast_id\": 4, \"character\": \"Captain Jack Spa...   \n",
       "2  [{\"cast_id\": 1, \"character\": \"James Bond\", \"cr...   \n",
       "3  [{\"cast_id\": 2, \"character\": \"Bruce Wayne / Ba...   \n",
       "4  [{\"cast_id\": 5, \"character\": \"John Carter\", \"c...   \n",
       "\n",
       "                                                crew  n_cast_members  \n",
       "0  [{\"credit_id\": \"52fe48009251416c750aca23\", \"de...              83  \n",
       "1  [{\"credit_id\": \"52fe4232c3a36847f800b579\", \"de...              34  \n",
       "2  [{\"credit_id\": \"54805967c3a36829b5002c41\", \"de...              83  \n",
       "3  [{\"credit_id\": \"52fe4781c3a36847f81398c3\", \"de...             158  \n",
       "4  [{\"credit_id\": \"52fe479ac3a36847f813eaa3\", \"de...              27  "
      ]
     },
     "execution_count": 160,
     "metadata": {},
     "output_type": "execute_result"
    }
   ],
   "source": [
    "credits.head()"
   ]
  },
  {
   "cell_type": "markdown",
   "metadata": {
    "collapsed": true
   },
   "source": [
    "ESERCIZIO PUNTO DUE\n",
    "    how many movies have no homepage"
   ]
  },
  {
   "cell_type": "code",
   "execution_count": 161,
   "metadata": {},
   "outputs": [
    {
     "data": {
      "text/plain": [
       "3091"
      ]
     },
     "execution_count": 161,
     "metadata": {},
     "output_type": "execute_result"
    }
   ],
   "source": [
    "len(movies[movies['homepage'].isnull()])"
   ]
  },
  {
   "cell_type": "markdown",
   "metadata": {},
   "source": [
    "ESERCIZIO PUNTO TRE\n",
    "    for each year how many movies have no homepage"
   ]
  },
  {
   "cell_type": "code",
   "execution_count": 162,
   "metadata": {},
   "outputs": [
    {
     "data": {
      "text/plain": [
       "anno\n",
       "1916    1\n",
       "1925    1\n",
       "1927    1\n",
       "1929    2\n",
       "1930    1\n",
       "dtype: int64"
      ]
     },
     "execution_count": 162,
     "metadata": {},
     "output_type": "execute_result"
    }
   ],
   "source": [
    "movies['anno'] = movies['release_date'].str.split('-', expand=True)[0]\n",
    "movies[movies['homepage'].isnull()].groupby('anno').size().head()"
   ]
  },
  {
   "cell_type": "markdown",
   "metadata": {},
   "source": [
    "ESERCIZIO PUNTO QUATTRO\n",
    "    extract the domain"
   ]
  },
  {
   "cell_type": "code",
   "execution_count": 163,
   "metadata": {},
   "outputs": [
    {
     "data": {
      "text/html": [
       "<div>\n",
       "<style>\n",
       "    .dataframe thead tr:only-child th {\n",
       "        text-align: right;\n",
       "    }\n",
       "\n",
       "    .dataframe thead th {\n",
       "        text-align: left;\n",
       "    }\n",
       "\n",
       "    .dataframe tbody tr th {\n",
       "        vertical-align: top;\n",
       "    }\n",
       "</style>\n",
       "<table border=\"1\" class=\"dataframe\">\n",
       "  <thead>\n",
       "    <tr style=\"text-align: right;\">\n",
       "      <th></th>\n",
       "      <th>title</th>\n",
       "      <th>dominio</th>\n",
       "    </tr>\n",
       "  </thead>\n",
       "  <tbody>\n",
       "    <tr>\n",
       "      <th>0</th>\n",
       "      <td>Avatar</td>\n",
       "      <td>www.avatarmovie.com</td>\n",
       "    </tr>\n",
       "    <tr>\n",
       "      <th>1</th>\n",
       "      <td>Pirates of the Caribbean: At World's End</td>\n",
       "      <td>disney.go.com</td>\n",
       "    </tr>\n",
       "    <tr>\n",
       "      <th>2</th>\n",
       "      <td>Spectre</td>\n",
       "      <td>www.sonypictures.com</td>\n",
       "    </tr>\n",
       "    <tr>\n",
       "      <th>3</th>\n",
       "      <td>The Dark Knight Rises</td>\n",
       "      <td>www.thedarkknightrises.com</td>\n",
       "    </tr>\n",
       "    <tr>\n",
       "      <th>4</th>\n",
       "      <td>John Carter</td>\n",
       "      <td>movies.disney.com</td>\n",
       "    </tr>\n",
       "    <tr>\n",
       "      <th>5</th>\n",
       "      <td>Spider-Man 3</td>\n",
       "      <td>www.sonypictures.com</td>\n",
       "    </tr>\n",
       "    <tr>\n",
       "      <th>6</th>\n",
       "      <td>Tangled</td>\n",
       "      <td>disney.go.com</td>\n",
       "    </tr>\n",
       "    <tr>\n",
       "      <th>7</th>\n",
       "      <td>Avengers: Age of Ultron</td>\n",
       "      <td>marvel.com</td>\n",
       "    </tr>\n",
       "    <tr>\n",
       "      <th>8</th>\n",
       "      <td>Harry Potter and the Half-Blood Prince</td>\n",
       "      <td>harrypotter.warnerbros.com</td>\n",
       "    </tr>\n",
       "    <tr>\n",
       "      <th>9</th>\n",
       "      <td>Batman v Superman: Dawn of Justice</td>\n",
       "      <td>www.batmanvsupermandawnofjustice.com</td>\n",
       "    </tr>\n",
       "    <tr>\n",
       "      <th>10</th>\n",
       "      <td>Superman Returns</td>\n",
       "      <td>www.superman.com</td>\n",
       "    </tr>\n",
       "    <tr>\n",
       "      <th>11</th>\n",
       "      <td>Quantum of Solace</td>\n",
       "      <td>www.mgm.com</td>\n",
       "    </tr>\n",
       "    <tr>\n",
       "      <th>12</th>\n",
       "      <td>Pirates of the Caribbean: Dead Man's Chest</td>\n",
       "      <td>disney.go.com</td>\n",
       "    </tr>\n",
       "    <tr>\n",
       "      <th>13</th>\n",
       "      <td>The Lone Ranger</td>\n",
       "      <td>disney.go.com</td>\n",
       "    </tr>\n",
       "    <tr>\n",
       "      <th>14</th>\n",
       "      <td>Man of Steel</td>\n",
       "      <td>www.manofsteel.com</td>\n",
       "    </tr>\n",
       "    <tr>\n",
       "      <th>15</th>\n",
       "      <td>The Chronicles of Narnia: Prince Caspian</td>\n",
       "      <td>No Website</td>\n",
       "    </tr>\n",
       "    <tr>\n",
       "      <th>16</th>\n",
       "      <td>The Avengers</td>\n",
       "      <td>marvel.com</td>\n",
       "    </tr>\n",
       "    <tr>\n",
       "      <th>17</th>\n",
       "      <td>Pirates of the Caribbean: On Stranger Tides</td>\n",
       "      <td>disney.go.com</td>\n",
       "    </tr>\n",
       "  </tbody>\n",
       "</table>\n",
       "</div>"
      ],
      "text/plain": [
       "                                          title  \\\n",
       "0                                        Avatar   \n",
       "1      Pirates of the Caribbean: At World's End   \n",
       "2                                       Spectre   \n",
       "3                         The Dark Knight Rises   \n",
       "4                                   John Carter   \n",
       "5                                  Spider-Man 3   \n",
       "6                                       Tangled   \n",
       "7                       Avengers: Age of Ultron   \n",
       "8        Harry Potter and the Half-Blood Prince   \n",
       "9            Batman v Superman: Dawn of Justice   \n",
       "10                             Superman Returns   \n",
       "11                            Quantum of Solace   \n",
       "12   Pirates of the Caribbean: Dead Man's Chest   \n",
       "13                              The Lone Ranger   \n",
       "14                                 Man of Steel   \n",
       "15     The Chronicles of Narnia: Prince Caspian   \n",
       "16                                 The Avengers   \n",
       "17  Pirates of the Caribbean: On Stranger Tides   \n",
       "\n",
       "                                 dominio  \n",
       "0                    www.avatarmovie.com  \n",
       "1                          disney.go.com  \n",
       "2                   www.sonypictures.com  \n",
       "3             www.thedarkknightrises.com  \n",
       "4                      movies.disney.com  \n",
       "5                   www.sonypictures.com  \n",
       "6                          disney.go.com  \n",
       "7                             marvel.com  \n",
       "8             harrypotter.warnerbros.com  \n",
       "9   www.batmanvsupermandawnofjustice.com  \n",
       "10                      www.superman.com  \n",
       "11                           www.mgm.com  \n",
       "12                         disney.go.com  \n",
       "13                         disney.go.com  \n",
       "14                    www.manofsteel.com  \n",
       "15                            No Website  \n",
       "16                            marvel.com  \n",
       "17                         disney.go.com  "
      ]
     },
     "execution_count": 163,
     "metadata": {},
     "output_type": "execute_result"
    }
   ],
   "source": [
    "array_domain = []\n",
    "\n",
    "for i in range(len(movies)):\n",
    "    temporaneo = re.findall('//([\\w]+[\\.]?[\\w]+[\\.]?[\\w]+)', str(movies['homepage'][i]))\n",
    "    if bool(temporaneo) == True:\n",
    "        array_domain.append(temporaneo[0])\n",
    "    elif bool(temporaneo) == False:\n",
    "        array_domain.append('No Website')\n",
    "\n",
    "movies['dominio'] = array_domain\n",
    "movies[['title','dominio']].head(18)"
   ]
  },
  {
   "cell_type": "markdown",
   "metadata": {},
   "source": [
    "ESERCIZIO PUNTO CINQUE \n",
    "extract a set normalized tables"
   ]
  },
  {
   "cell_type": "code",
   "execution_count": 164,
   "metadata": {},
   "outputs": [],
   "source": [
    "#ho creato un set di tabelle normalizzate che mostrano il cast per i primi 50 film del dataset credit\n",
    "\n",
    "n_film = credits['movie_id'][:50]\n",
    "\n",
    "for i in range(len(n_film)):\n",
    "    whole_cast = json.loads(credits['cast'][i])\n",
    "    colonne = ['cast_id','character','credit_id','gender','id','name']\n",
    "    #con globals creo il dataframe per ogni film\n",
    "    globals()['movie_'+str(n_film[i])] = pd.DataFrame(columns = colonne)\n",
    "    \n",
    "    for a in range(len(whole_cast)):\n",
    "        tempp = list(whole_cast[a].values())\n",
    "        del tempp[-1]\n",
    "        globals()['movie_'+str(n_film[i])].loc[a] = tempp  "
   ]
  },
  {
   "cell_type": "code",
   "execution_count": 165,
   "metadata": {},
   "outputs": [
    {
     "data": {
      "text/html": [
       "<div>\n",
       "<style>\n",
       "    .dataframe thead tr:only-child th {\n",
       "        text-align: right;\n",
       "    }\n",
       "\n",
       "    .dataframe thead th {\n",
       "        text-align: left;\n",
       "    }\n",
       "\n",
       "    .dataframe tbody tr th {\n",
       "        vertical-align: top;\n",
       "    }\n",
       "</style>\n",
       "<table border=\"1\" class=\"dataframe\">\n",
       "  <thead>\n",
       "    <tr style=\"text-align: right;\">\n",
       "      <th></th>\n",
       "      <th>cast_id</th>\n",
       "      <th>character</th>\n",
       "      <th>credit_id</th>\n",
       "      <th>gender</th>\n",
       "      <th>id</th>\n",
       "      <th>name</th>\n",
       "    </tr>\n",
       "  </thead>\n",
       "  <tbody>\n",
       "    <tr>\n",
       "      <th>0</th>\n",
       "      <td>4</td>\n",
       "      <td>Captain Jack Sparrow</td>\n",
       "      <td>52fe4232c3a36847f800b50d</td>\n",
       "      <td>2</td>\n",
       "      <td>85</td>\n",
       "      <td>Johnny Depp</td>\n",
       "    </tr>\n",
       "    <tr>\n",
       "      <th>1</th>\n",
       "      <td>5</td>\n",
       "      <td>Will Turner</td>\n",
       "      <td>52fe4232c3a36847f800b511</td>\n",
       "      <td>2</td>\n",
       "      <td>114</td>\n",
       "      <td>Orlando Bloom</td>\n",
       "    </tr>\n",
       "    <tr>\n",
       "      <th>2</th>\n",
       "      <td>6</td>\n",
       "      <td>Elizabeth Swann</td>\n",
       "      <td>52fe4232c3a36847f800b515</td>\n",
       "      <td>1</td>\n",
       "      <td>116</td>\n",
       "      <td>Keira Knightley</td>\n",
       "    </tr>\n",
       "    <tr>\n",
       "      <th>3</th>\n",
       "      <td>12</td>\n",
       "      <td>William \"Bootstrap Bill\" Turner</td>\n",
       "      <td>52fe4232c3a36847f800b52d</td>\n",
       "      <td>2</td>\n",
       "      <td>1640</td>\n",
       "      <td>Stellan Skarsgård</td>\n",
       "    </tr>\n",
       "    <tr>\n",
       "      <th>4</th>\n",
       "      <td>10</td>\n",
       "      <td>Captain Sao Feng</td>\n",
       "      <td>52fe4232c3a36847f800b525</td>\n",
       "      <td>2</td>\n",
       "      <td>1619</td>\n",
       "      <td>Chow Yun-fat</td>\n",
       "    </tr>\n",
       "  </tbody>\n",
       "</table>\n",
       "</div>"
      ],
      "text/plain": [
       "  cast_id                        character                 credit_id gender  \\\n",
       "0       4             Captain Jack Sparrow  52fe4232c3a36847f800b50d      2   \n",
       "1       5                      Will Turner  52fe4232c3a36847f800b511      2   \n",
       "2       6                  Elizabeth Swann  52fe4232c3a36847f800b515      1   \n",
       "3      12  William \"Bootstrap Bill\" Turner  52fe4232c3a36847f800b52d      2   \n",
       "4      10                 Captain Sao Feng  52fe4232c3a36847f800b525      2   \n",
       "\n",
       "     id               name  \n",
       "0    85        Johnny Depp  \n",
       "1   114      Orlando Bloom  \n",
       "2   116    Keira Knightley  \n",
       "3  1640  Stellan Skarsgård  \n",
       "4  1619       Chow Yun-fat  "
      ]
     },
     "execution_count": 165,
     "metadata": {},
     "output_type": "execute_result"
    }
   ],
   "source": [
    "#per chiamare la tabella normalizzata basta scrivere movie_(movie_id)\n",
    "#ad esempio :\n",
    "movie_285.head()"
   ]
  },
  {
   "cell_type": "markdown",
   "metadata": {},
   "source": [
    "ESERCIZIO PUNTO SEI compute the gross margin"
   ]
  },
  {
   "cell_type": "code",
   "execution_count": 166,
   "metadata": {},
   "outputs": [
    {
     "data": {
      "text/html": [
       "<div>\n",
       "<style>\n",
       "    .dataframe thead tr:only-child th {\n",
       "        text-align: right;\n",
       "    }\n",
       "\n",
       "    .dataframe thead th {\n",
       "        text-align: left;\n",
       "    }\n",
       "\n",
       "    .dataframe tbody tr th {\n",
       "        vertical-align: top;\n",
       "    }\n",
       "</style>\n",
       "<table border=\"1\" class=\"dataframe\">\n",
       "  <thead>\n",
       "    <tr style=\"text-align: right;\">\n",
       "      <th></th>\n",
       "      <th>title</th>\n",
       "      <th>gross_margin</th>\n",
       "    </tr>\n",
       "  </thead>\n",
       "  <tbody>\n",
       "    <tr>\n",
       "      <th>0</th>\n",
       "      <td>Avatar</td>\n",
       "      <td>2550965087</td>\n",
       "    </tr>\n",
       "    <tr>\n",
       "      <th>1</th>\n",
       "      <td>Pirates of the Caribbean: At World's End</td>\n",
       "      <td>661000000</td>\n",
       "    </tr>\n",
       "    <tr>\n",
       "      <th>2</th>\n",
       "      <td>Spectre</td>\n",
       "      <td>635674609</td>\n",
       "    </tr>\n",
       "    <tr>\n",
       "      <th>3</th>\n",
       "      <td>The Dark Knight Rises</td>\n",
       "      <td>834939099</td>\n",
       "    </tr>\n",
       "    <tr>\n",
       "      <th>4</th>\n",
       "      <td>John Carter</td>\n",
       "      <td>24139100</td>\n",
       "    </tr>\n",
       "  </tbody>\n",
       "</table>\n",
       "</div>"
      ],
      "text/plain": [
       "                                      title  gross_margin\n",
       "0                                    Avatar    2550965087\n",
       "1  Pirates of the Caribbean: At World's End     661000000\n",
       "2                                   Spectre     635674609\n",
       "3                     The Dark Knight Rises     834939099\n",
       "4                               John Carter      24139100"
      ]
     },
     "execution_count": 166,
     "metadata": {},
     "output_type": "execute_result"
    }
   ],
   "source": [
    "movies['gross_margin'] = movies['revenue'] - movies['budget']\n",
    "movies[['title','gross_margin']].head()"
   ]
  },
  {
   "cell_type": "markdown",
   "metadata": {},
   "source": [
    "ESERCIZIO PUNTO SETTE compute the number of crew members"
   ]
  },
  {
   "cell_type": "code",
   "execution_count": 167,
   "metadata": {
    "collapsed": true
   },
   "outputs": [],
   "source": [
    "array_crew = []\n",
    "\n",
    "for i in range(len(credits)):\n",
    "    crew_members = json.loads(credits['crew'][i])\n",
    "    array_crew.append(len(crew_members))\n",
    "credits['crew_members'] = array_crew"
   ]
  },
  {
   "cell_type": "code",
   "execution_count": 168,
   "metadata": {},
   "outputs": [
    {
     "data": {
      "text/html": [
       "<div>\n",
       "<style>\n",
       "    .dataframe thead tr:only-child th {\n",
       "        text-align: right;\n",
       "    }\n",
       "\n",
       "    .dataframe thead th {\n",
       "        text-align: left;\n",
       "    }\n",
       "\n",
       "    .dataframe tbody tr th {\n",
       "        vertical-align: top;\n",
       "    }\n",
       "</style>\n",
       "<table border=\"1\" class=\"dataframe\">\n",
       "  <thead>\n",
       "    <tr style=\"text-align: right;\">\n",
       "      <th></th>\n",
       "      <th>movie_id</th>\n",
       "      <th>title</th>\n",
       "      <th>cast</th>\n",
       "      <th>crew</th>\n",
       "      <th>n_cast_members</th>\n",
       "      <th>crew_members</th>\n",
       "    </tr>\n",
       "  </thead>\n",
       "  <tbody>\n",
       "    <tr>\n",
       "      <th>0</th>\n",
       "      <td>19995</td>\n",
       "      <td>Avatar</td>\n",
       "      <td>[{\"cast_id\": 242, \"character\": \"Jake Sully\", \"...</td>\n",
       "      <td>[{\"credit_id\": \"52fe48009251416c750aca23\", \"de...</td>\n",
       "      <td>83</td>\n",
       "      <td>153</td>\n",
       "    </tr>\n",
       "    <tr>\n",
       "      <th>1</th>\n",
       "      <td>285</td>\n",
       "      <td>Pirates of the Caribbean: At World's End</td>\n",
       "      <td>[{\"cast_id\": 4, \"character\": \"Captain Jack Spa...</td>\n",
       "      <td>[{\"credit_id\": \"52fe4232c3a36847f800b579\", \"de...</td>\n",
       "      <td>34</td>\n",
       "      <td>32</td>\n",
       "    </tr>\n",
       "    <tr>\n",
       "      <th>2</th>\n",
       "      <td>206647</td>\n",
       "      <td>Spectre</td>\n",
       "      <td>[{\"cast_id\": 1, \"character\": \"James Bond\", \"cr...</td>\n",
       "      <td>[{\"credit_id\": \"54805967c3a36829b5002c41\", \"de...</td>\n",
       "      <td>83</td>\n",
       "      <td>155</td>\n",
       "    </tr>\n",
       "    <tr>\n",
       "      <th>3</th>\n",
       "      <td>49026</td>\n",
       "      <td>The Dark Knight Rises</td>\n",
       "      <td>[{\"cast_id\": 2, \"character\": \"Bruce Wayne / Ba...</td>\n",
       "      <td>[{\"credit_id\": \"52fe4781c3a36847f81398c3\", \"de...</td>\n",
       "      <td>158</td>\n",
       "      <td>217</td>\n",
       "    </tr>\n",
       "    <tr>\n",
       "      <th>4</th>\n",
       "      <td>49529</td>\n",
       "      <td>John Carter</td>\n",
       "      <td>[{\"cast_id\": 5, \"character\": \"John Carter\", \"c...</td>\n",
       "      <td>[{\"credit_id\": \"52fe479ac3a36847f813eaa3\", \"de...</td>\n",
       "      <td>27</td>\n",
       "      <td>132</td>\n",
       "    </tr>\n",
       "  </tbody>\n",
       "</table>\n",
       "</div>"
      ],
      "text/plain": [
       "   movie_id                                     title  \\\n",
       "0     19995                                    Avatar   \n",
       "1       285  Pirates of the Caribbean: At World's End   \n",
       "2    206647                                   Spectre   \n",
       "3     49026                     The Dark Knight Rises   \n",
       "4     49529                               John Carter   \n",
       "\n",
       "                                                cast  \\\n",
       "0  [{\"cast_id\": 242, \"character\": \"Jake Sully\", \"...   \n",
       "1  [{\"cast_id\": 4, \"character\": \"Captain Jack Spa...   \n",
       "2  [{\"cast_id\": 1, \"character\": \"James Bond\", \"cr...   \n",
       "3  [{\"cast_id\": 2, \"character\": \"Bruce Wayne / Ba...   \n",
       "4  [{\"cast_id\": 5, \"character\": \"John Carter\", \"c...   \n",
       "\n",
       "                                                crew  n_cast_members  \\\n",
       "0  [{\"credit_id\": \"52fe48009251416c750aca23\", \"de...              83   \n",
       "1  [{\"credit_id\": \"52fe4232c3a36847f800b579\", \"de...              34   \n",
       "2  [{\"credit_id\": \"54805967c3a36829b5002c41\", \"de...              83   \n",
       "3  [{\"credit_id\": \"52fe4781c3a36847f81398c3\", \"de...             158   \n",
       "4  [{\"credit_id\": \"52fe479ac3a36847f813eaa3\", \"de...              27   \n",
       "\n",
       "   crew_members  \n",
       "0           153  \n",
       "1            32  \n",
       "2           155  \n",
       "3           217  \n",
       "4           132  "
      ]
     },
     "execution_count": 168,
     "metadata": {},
     "output_type": "execute_result"
    }
   ],
   "source": [
    "credits.head()"
   ]
  },
  {
   "cell_type": "markdown",
   "metadata": {},
   "source": [
    "ESERCIZIO PUNTO OTTO number of directors"
   ]
  },
  {
   "cell_type": "code",
   "execution_count": 169,
   "metadata": {
    "collapsed": true
   },
   "outputs": [],
   "source": [
    "array_directors = []\n",
    "\n",
    "for a in range(len(credits)):\n",
    "    counter = 0\n",
    "    movie_crew = json.loads(credits['crew'][a])\n",
    "    \n",
    "    for b in range(len(movie_crew)):\n",
    "        for job in movie_crew[b].values():\n",
    "            if job == 'Director':\n",
    "                counter = counter + 1\n",
    "    \n",
    "    array_directors.append(counter)\n",
    "credits['number_of_directors'] = array_directors"
   ]
  },
  {
   "cell_type": "code",
   "execution_count": 170,
   "metadata": {},
   "outputs": [
    {
     "data": {
      "text/html": [
       "<div>\n",
       "<style>\n",
       "    .dataframe thead tr:only-child th {\n",
       "        text-align: right;\n",
       "    }\n",
       "\n",
       "    .dataframe thead th {\n",
       "        text-align: left;\n",
       "    }\n",
       "\n",
       "    .dataframe tbody tr th {\n",
       "        vertical-align: top;\n",
       "    }\n",
       "</style>\n",
       "<table border=\"1\" class=\"dataframe\">\n",
       "  <thead>\n",
       "    <tr style=\"text-align: right;\">\n",
       "      <th></th>\n",
       "      <th>movie_id</th>\n",
       "      <th>title</th>\n",
       "      <th>cast</th>\n",
       "      <th>crew</th>\n",
       "      <th>n_cast_members</th>\n",
       "      <th>crew_members</th>\n",
       "      <th>number_of_directors</th>\n",
       "    </tr>\n",
       "  </thead>\n",
       "  <tbody>\n",
       "    <tr>\n",
       "      <th>2769</th>\n",
       "      <td>2266</td>\n",
       "      <td>Paris, je t'aime</td>\n",
       "      <td>[{\"cast_id\": 24, \"character\": \"Touriste (Tuile...</td>\n",
       "      <td>[{\"credit_id\": \"52fe4348c3a36847f8048471\", \"de...</td>\n",
       "      <td>48</td>\n",
       "      <td>61</td>\n",
       "      <td>21</td>\n",
       "    </tr>\n",
       "    <tr>\n",
       "      <th>3053</th>\n",
       "      <td>87818</td>\n",
       "      <td>Movie 43</td>\n",
       "      <td>[{\"cast_id\": 18, \"character\": \"Vanessa (segmen...</td>\n",
       "      <td>[{\"credit_id\": \"52fe49d89251416c910bab3b\", \"de...</td>\n",
       "      <td>105</td>\n",
       "      <td>111</td>\n",
       "      <td>12</td>\n",
       "    </tr>\n",
       "    <tr>\n",
       "      <th>4050</th>\n",
       "      <td>756</td>\n",
       "      <td>Fantasia</td>\n",
       "      <td>[{\"cast_id\": 14, \"character\": \"Narrator - Narr...</td>\n",
       "      <td>[{\"credit_id\": \"52fe4272c3a36847f801f2e7\", \"de...</td>\n",
       "      <td>4</td>\n",
       "      <td>36</td>\n",
       "      <td>12</td>\n",
       "    </tr>\n",
       "    <tr>\n",
       "      <th>465</th>\n",
       "      <td>49948</td>\n",
       "      <td>Fantasia 2000</td>\n",
       "      <td>[{\"cast_id\": 3, \"character\": \"Himself - Introd...</td>\n",
       "      <td>[{\"credit_id\": \"59078d1c925141643300101e\", \"de...</td>\n",
       "      <td>12</td>\n",
       "      <td>46</td>\n",
       "      <td>8</td>\n",
       "    </tr>\n",
       "    <tr>\n",
       "      <th>4441</th>\n",
       "      <td>3170</td>\n",
       "      <td>Bambi</td>\n",
       "      <td>[{\"cast_id\": 9, \"character\": \"Young Bambi (voi...</td>\n",
       "      <td>[{\"credit_id\": \"52fe438cc3a36847f805ca73\", \"de...</td>\n",
       "      <td>11</td>\n",
       "      <td>53</td>\n",
       "      <td>7</td>\n",
       "    </tr>\n",
       "  </tbody>\n",
       "</table>\n",
       "</div>"
      ],
      "text/plain": [
       "      movie_id             title  \\\n",
       "2769      2266  Paris, je t'aime   \n",
       "3053     87818          Movie 43   \n",
       "4050       756          Fantasia   \n",
       "465      49948     Fantasia 2000   \n",
       "4441      3170             Bambi   \n",
       "\n",
       "                                                   cast  \\\n",
       "2769  [{\"cast_id\": 24, \"character\": \"Touriste (Tuile...   \n",
       "3053  [{\"cast_id\": 18, \"character\": \"Vanessa (segmen...   \n",
       "4050  [{\"cast_id\": 14, \"character\": \"Narrator - Narr...   \n",
       "465   [{\"cast_id\": 3, \"character\": \"Himself - Introd...   \n",
       "4441  [{\"cast_id\": 9, \"character\": \"Young Bambi (voi...   \n",
       "\n",
       "                                                   crew  n_cast_members  \\\n",
       "2769  [{\"credit_id\": \"52fe4348c3a36847f8048471\", \"de...              48   \n",
       "3053  [{\"credit_id\": \"52fe49d89251416c910bab3b\", \"de...             105   \n",
       "4050  [{\"credit_id\": \"52fe4272c3a36847f801f2e7\", \"de...               4   \n",
       "465   [{\"credit_id\": \"59078d1c925141643300101e\", \"de...              12   \n",
       "4441  [{\"credit_id\": \"52fe438cc3a36847f805ca73\", \"de...              11   \n",
       "\n",
       "      crew_members  number_of_directors  \n",
       "2769            61                   21  \n",
       "3053           111                   12  \n",
       "4050            36                   12  \n",
       "465             46                    8  \n",
       "4441            53                    7  "
      ]
     },
     "execution_count": 170,
     "metadata": {},
     "output_type": "execute_result"
    }
   ],
   "source": [
    "credits.sort_values('number_of_directors',ascending=False).head()"
   ]
  },
  {
   "cell_type": "markdown",
   "metadata": {},
   "source": [
    "ESERCIZIO PUNTO NOVE number of movies where each language is spoken"
   ]
  },
  {
   "cell_type": "code",
   "execution_count": 171,
   "metadata": {},
   "outputs": [
    {
     "data": {
      "text/plain": [
       "[('English', 4485),\n",
       " ('Français', 437),\n",
       " ('Español', 351),\n",
       " ('Deutsch', 262),\n",
       " ('Italiano', 188)]"
      ]
     },
     "execution_count": 171,
     "metadata": {},
     "output_type": "execute_result"
    }
   ],
   "source": [
    "language_list = []\n",
    "\n",
    "for i in range(len(movies)):\n",
    "    intermedio = json.loads(movies['spoken_languages'][i])\n",
    "    for j in range(len(intermedio)):\n",
    "        scatola = intermedio[j].get('name')\n",
    "        language_list.append(scatola)\n",
    "    \n",
    "#ora basta contare gli elementi nella lista\n",
    "from collections import Counter\n",
    "conta = Counter()\n",
    "for item in language_list:\n",
    "    conta[item] += 1\n",
    "conta.most_common(5)"
   ]
  },
  {
   "cell_type": "markdown",
   "metadata": {
    "collapsed": true
   },
   "source": [
    "ESERCIZIO PUNTO DIECI overall revenue for each company and decade"
   ]
  },
  {
   "cell_type": "code",
   "execution_count": 172,
   "metadata": {
    "collapsed": true
   },
   "outputs": [],
   "source": [
    "#nel dataset c'è un film che non ha casa di produzione ed altre informazioni con anno 2015, lascio vuoto\n",
    "movies['release_date']=pd.to_datetime(movies['release_date'])"
   ]
  },
  {
   "cell_type": "code",
   "execution_count": 173,
   "metadata": {
    "collapsed": true
   },
   "outputs": [],
   "source": [
    "companies = []\n",
    "revenues = []\n",
    "years = []\n",
    "for i in range(len(movies)):\n",
    "    production_c = json.loads(movies['production_companies'][i])\n",
    "    for k in production_c:\n",
    "        companies.append(k.get('name'))\n",
    "        revenues.append(movies['revenue'][i])\n",
    "        years.append(int(movies['release_date'][i].year))\n",
    "#il metodo più conveniente è creare un dataframe in cui inserisco i dati, serve anche dopo\n",
    "dataf = pd.DataFrame(columns=['company','revenue','year'])\n",
    "dataf['company'], dataf['revenue'], dataf['year'] = companies, revenues, years \n",
    "#ora devo raggruppare gli anni per decadi e per company"
   ]
  },
  {
   "cell_type": "code",
   "execution_count": 174,
   "metadata": {},
   "outputs": [
    {
     "data": {
      "text/html": [
       "<div>\n",
       "<style>\n",
       "    .dataframe thead tr:only-child th {\n",
       "        text-align: right;\n",
       "    }\n",
       "\n",
       "    .dataframe thead th {\n",
       "        text-align: left;\n",
       "    }\n",
       "\n",
       "    .dataframe tbody tr th {\n",
       "        vertical-align: top;\n",
       "    }\n",
       "</style>\n",
       "<table border=\"1\" class=\"dataframe\">\n",
       "  <thead>\n",
       "    <tr style=\"text-align: right;\">\n",
       "      <th></th>\n",
       "      <th>company</th>\n",
       "      <th>revenue</th>\n",
       "      <th>year</th>\n",
       "    </tr>\n",
       "  </thead>\n",
       "  <tbody>\n",
       "    <tr>\n",
       "      <th>13672</th>\n",
       "      <td>Columbia Pictures</td>\n",
       "      <td>2040920</td>\n",
       "      <td>1992</td>\n",
       "    </tr>\n",
       "    <tr>\n",
       "      <th>13673</th>\n",
       "      <td>Front Street Pictures</td>\n",
       "      <td>0</td>\n",
       "      <td>2013</td>\n",
       "    </tr>\n",
       "    <tr>\n",
       "      <th>13674</th>\n",
       "      <td>Muse Entertainment Enterprises</td>\n",
       "      <td>0</td>\n",
       "      <td>2013</td>\n",
       "    </tr>\n",
       "    <tr>\n",
       "      <th>13675</th>\n",
       "      <td>rusty bear entertainment</td>\n",
       "      <td>0</td>\n",
       "      <td>2005</td>\n",
       "    </tr>\n",
       "    <tr>\n",
       "      <th>13676</th>\n",
       "      <td>lucky crow films</td>\n",
       "      <td>0</td>\n",
       "      <td>2005</td>\n",
       "    </tr>\n",
       "  </tbody>\n",
       "</table>\n",
       "</div>"
      ],
      "text/plain": [
       "                              company  revenue  year\n",
       "13672               Columbia Pictures  2040920  1992\n",
       "13673           Front Street Pictures        0  2013\n",
       "13674  Muse Entertainment Enterprises        0  2013\n",
       "13675        rusty bear entertainment        0  2005\n",
       "13676                lucky crow films        0  2005"
      ]
     },
     "execution_count": 174,
     "metadata": {},
     "output_type": "execute_result"
    }
   ],
   "source": [
    "dataf.tail()"
   ]
  },
  {
   "cell_type": "code",
   "execution_count": 175,
   "metadata": {
    "scrolled": false
   },
   "outputs": [
    {
     "data": {
      "text/plain": [
       "company                          year\n",
       "\"DIA\" Productions GmbH & Co. KG  2000    44350926\n",
       "1.85 Films                       2010       98017\n",
       "10 West Studios                  2010           0\n",
       "100 Bares                        2000    33965843\n",
       "                                 2010    24000000\n",
       "Name: revenue, dtype: int64"
      ]
     },
     "execution_count": 175,
     "metadata": {},
     "output_type": "execute_result"
    }
   ],
   "source": [
    "dataf.groupby(['company',(dataf['year']//10)*10])['revenue'].sum().head()"
   ]
  },
  {
   "cell_type": "markdown",
   "metadata": {
    "collapsed": true
   },
   "source": [
    "ESERCIZIO PUNTO UNDICI for each decade compute the company with max revenue"
   ]
  },
  {
   "cell_type": "code",
   "execution_count": 176,
   "metadata": {
    "scrolled": false
   },
   "outputs": [
    {
     "data": {
      "text/plain": [
       "year  company                  \n",
       "1910  Triangle Film Corporation     8394751\n",
       "      Wark Producing Corp.          8394751\n",
       "1920  Metro-Goldwyn-Mayer (MGM)    22000000\n",
       "      Nero Films                          0\n",
       "      Paramount Pictures             650422\n",
       "Name: revenue, dtype: int64"
      ]
     },
     "execution_count": 176,
     "metadata": {},
     "output_type": "execute_result"
    }
   ],
   "source": [
    "grouped = dataf.groupby([(dataf['year']//10)*10,'company'])['revenue'].max()\n",
    "grouped.head(5)"
   ]
  },
  {
   "cell_type": "code",
   "execution_count": 177,
   "metadata": {
    "scrolled": false
   },
   "outputs": [
    {
     "data": {
      "text/plain": [
       "{(1910, 'Triangle Film Corporation'): 8394751,\n",
       " (1910, 'Wark Producing Corp.'): 8394751,\n",
       " (1920, 'Metro-Goldwyn-Mayer (MGM)'): 22000000,\n",
       " (1930, 'Metro-Goldwyn-Mayer (MGM)'): 400176459,\n",
       " (1930, 'Selznick International Pictures'): 400176459,\n",
       " (1940, 'Walt Disney Productions'): 267447150,\n",
       " (1950, 'Paramount Pictures'): 36000000,\n",
       " (1950, 'Twentieth Century Fox Film Corporation'): 36000000,\n",
       " (1960, 'Argyle Enterprises'): 286214286,\n",
       " (1960, 'Robert Wise Productions'): 286214286,\n",
       " (1960, 'Twentieth Century Fox Film Corporation'): 286214286,\n",
       " (1970, 'Lucasfilm'): 775398007,\n",
       " (1970, 'Twentieth Century Fox Film Corporation'): 775398007,\n",
       " (1980, 'Amblin Entertainment'): 792910554,\n",
       " (1980, 'Universal Pictures'): 792910554,\n",
       " (1990, 'Lightstorm Entertainment'): 1845034188,\n",
       " (1990, 'Paramount Pictures'): 1845034188,\n",
       " (1990, 'Twentieth Century Fox Film Corporation'): 1845034188,\n",
       " (2000, 'Dune Entertainment'): 2787965087,\n",
       " (2000, 'Ingenious Film Partners'): 2787965087,\n",
       " (2000, 'Lightstorm Entertainment'): 2787965087,\n",
       " (2000, 'Twentieth Century Fox Film Corporation'): 2787965087,\n",
       " (2010, 'Marvel Studios'): 1519557910,\n",
       " (2010, 'Paramount Pictures'): 1519557910}"
      ]
     },
     "execution_count": 177,
     "metadata": {},
     "output_type": "execute_result"
    }
   ],
   "source": [
    "#estraggo i valori indice relativi all'anno,\n",
    "indice_anno = grouped.index.levels[0].values\n",
    "indice = []\n",
    "valore = []\n",
    "\n",
    "for i in range(len(indice_anno)):\n",
    "    part_anno = grouped.loc[grouped.index.get_level_values('year') == indice_anno[i]]\n",
    "    max_rev = part_anno.max()\n",
    "    tempo_ = part_anno[part_anno == max_rev]\n",
    "    for a in range(len(tempo_)):\n",
    "        indice.append(tempo_.index[a])\n",
    "        valore.append(tempo_.values[a])\n",
    "#ottengo cosi le aziende che per ogni decennio hanno avuto una revenue tra le più alte\n",
    "final_dict = dict(zip(indice, valore))\n",
    "final_dict\n",
    "    "
   ]
  },
  {
   "cell_type": "markdown",
   "metadata": {},
   "source": [
    "ESERCIZIO DODICI for each year how many movies have revenue < budget"
   ]
  },
  {
   "cell_type": "code",
   "execution_count": 178,
   "metadata": {
    "scrolled": true
   },
   "outputs": [
    {
     "data": {
      "text/plain": [
       "anno\n",
       "1927    1\n",
       "1947    1\n",
       "1948    1\n",
       "1954    1\n",
       "1962    1\n",
       "dtype: int64"
      ]
     },
     "execution_count": 178,
     "metadata": {},
     "output_type": "execute_result"
    }
   ],
   "source": [
    "movies[movies['gross_margin'] < 0].groupby('anno').size().head()"
   ]
  }
 ],
 "metadata": {
  "kernelspec": {
   "display_name": "Python 3",
   "language": "python",
   "name": "python3"
  },
  "language_info": {
   "codemirror_mode": {
    "name": "ipython",
    "version": 3
   },
   "file_extension": ".py",
   "mimetype": "text/x-python",
   "name": "python",
   "nbconvert_exporter": "python",
   "pygments_lexer": "ipython3",
   "version": "3.6.3"
  }
 },
 "nbformat": 4,
 "nbformat_minor": 2
}
