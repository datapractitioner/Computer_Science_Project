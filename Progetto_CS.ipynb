{
 "cells": [
  {
   "cell_type": "code",
   "execution_count": 47,
   "metadata": {
    "collapsed": true
   },
   "outputs": [],
   "source": [
    "import pandas as pd\n",
    "import json \n",
    "import re"
   ]
  },
  {
   "cell_type": "code",
   "execution_count": 48,
   "metadata": {},
   "outputs": [],
   "source": [
    "credits = pd.read_csv('tmdb_5000_credits.csv')\n",
    "movies = pd.read_csv('tmdb_5000_movies.csv')"
   ]
  },
  {
   "cell_type": "markdown",
   "metadata": {},
   "source": [
    "ESERCIZIO PUNTO UNO\n",
    " number of cast members"
   ]
  },
  {
   "cell_type": "code",
   "execution_count": 49,
   "metadata": {
    "collapsed": true
   },
   "outputs": [],
   "source": [
    "array = []\n",
    "\n",
    "for i in range(len(credits)):\n",
    "    temp = json.loads(credits.cast[i])\n",
    "    array.append(len(temp))\n",
    "credits['n_cast_mambers'] = array"
   ]
  },
  {
   "cell_type": "code",
   "execution_count": 50,
   "metadata": {},
   "outputs": [
    {
     "data": {
      "text/html": [
       "<div>\n",
       "<style>\n",
       "    .dataframe thead tr:only-child th {\n",
       "        text-align: right;\n",
       "    }\n",
       "\n",
       "    .dataframe thead th {\n",
       "        text-align: left;\n",
       "    }\n",
       "\n",
       "    .dataframe tbody tr th {\n",
       "        vertical-align: top;\n",
       "    }\n",
       "</style>\n",
       "<table border=\"1\" class=\"dataframe\">\n",
       "  <thead>\n",
       "    <tr style=\"text-align: right;\">\n",
       "      <th></th>\n",
       "      <th>movie_id</th>\n",
       "      <th>title</th>\n",
       "      <th>cast</th>\n",
       "      <th>crew</th>\n",
       "      <th>n_cast_mambers</th>\n",
       "    </tr>\n",
       "  </thead>\n",
       "  <tbody>\n",
       "    <tr>\n",
       "      <th>0</th>\n",
       "      <td>19995</td>\n",
       "      <td>Avatar</td>\n",
       "      <td>[{\"cast_id\": 242, \"character\": \"Jake Sully\", \"...</td>\n",
       "      <td>[{\"credit_id\": \"52fe48009251416c750aca23\", \"de...</td>\n",
       "      <td>83</td>\n",
       "    </tr>\n",
       "    <tr>\n",
       "      <th>1</th>\n",
       "      <td>285</td>\n",
       "      <td>Pirates of the Caribbean: At World's End</td>\n",
       "      <td>[{\"cast_id\": 4, \"character\": \"Captain Jack Spa...</td>\n",
       "      <td>[{\"credit_id\": \"52fe4232c3a36847f800b579\", \"de...</td>\n",
       "      <td>34</td>\n",
       "    </tr>\n",
       "    <tr>\n",
       "      <th>2</th>\n",
       "      <td>206647</td>\n",
       "      <td>Spectre</td>\n",
       "      <td>[{\"cast_id\": 1, \"character\": \"James Bond\", \"cr...</td>\n",
       "      <td>[{\"credit_id\": \"54805967c3a36829b5002c41\", \"de...</td>\n",
       "      <td>83</td>\n",
       "    </tr>\n",
       "    <tr>\n",
       "      <th>3</th>\n",
       "      <td>49026</td>\n",
       "      <td>The Dark Knight Rises</td>\n",
       "      <td>[{\"cast_id\": 2, \"character\": \"Bruce Wayne / Ba...</td>\n",
       "      <td>[{\"credit_id\": \"52fe4781c3a36847f81398c3\", \"de...</td>\n",
       "      <td>158</td>\n",
       "    </tr>\n",
       "    <tr>\n",
       "      <th>4</th>\n",
       "      <td>49529</td>\n",
       "      <td>John Carter</td>\n",
       "      <td>[{\"cast_id\": 5, \"character\": \"John Carter\", \"c...</td>\n",
       "      <td>[{\"credit_id\": \"52fe479ac3a36847f813eaa3\", \"de...</td>\n",
       "      <td>27</td>\n",
       "    </tr>\n",
       "  </tbody>\n",
       "</table>\n",
       "</div>"
      ],
      "text/plain": [
       "   movie_id                                     title  \\\n",
       "0     19995                                    Avatar   \n",
       "1       285  Pirates of the Caribbean: At World's End   \n",
       "2    206647                                   Spectre   \n",
       "3     49026                     The Dark Knight Rises   \n",
       "4     49529                               John Carter   \n",
       "\n",
       "                                                cast  \\\n",
       "0  [{\"cast_id\": 242, \"character\": \"Jake Sully\", \"...   \n",
       "1  [{\"cast_id\": 4, \"character\": \"Captain Jack Spa...   \n",
       "2  [{\"cast_id\": 1, \"character\": \"James Bond\", \"cr...   \n",
       "3  [{\"cast_id\": 2, \"character\": \"Bruce Wayne / Ba...   \n",
       "4  [{\"cast_id\": 5, \"character\": \"John Carter\", \"c...   \n",
       "\n",
       "                                                crew  n_cast_mambers  \n",
       "0  [{\"credit_id\": \"52fe48009251416c750aca23\", \"de...              83  \n",
       "1  [{\"credit_id\": \"52fe4232c3a36847f800b579\", \"de...              34  \n",
       "2  [{\"credit_id\": \"54805967c3a36829b5002c41\", \"de...              83  \n",
       "3  [{\"credit_id\": \"52fe4781c3a36847f81398c3\", \"de...             158  \n",
       "4  [{\"credit_id\": \"52fe479ac3a36847f813eaa3\", \"de...              27  "
      ]
     },
     "execution_count": 50,
     "metadata": {},
     "output_type": "execute_result"
    }
   ],
   "source": [
    "credits.head()"
   ]
  },
  {
   "cell_type": "markdown",
   "metadata": {
    "collapsed": true
   },
   "source": [
    "ESERCIZIO PUNTO DUE\n",
    "    how many movies have no homepage"
   ]
  },
  {
   "cell_type": "code",
   "execution_count": 51,
   "metadata": {},
   "outputs": [
    {
     "data": {
      "text/plain": [
       "3091"
      ]
     },
     "execution_count": 51,
     "metadata": {},
     "output_type": "execute_result"
    }
   ],
   "source": [
    "len(movies[movies['homepage'].isnull()])"
   ]
  },
  {
   "cell_type": "markdown",
   "metadata": {},
   "source": [
    "ESERCIZIO PUNTO TRE\n",
    "    for each year how many movies have no homepage"
   ]
  },
  {
   "cell_type": "code",
   "execution_count": 52,
   "metadata": {
    "collapsed": true
   },
   "outputs": [],
   "source": [
    "movies['anno'] = movies['release_date'].str.split('-', expand=True)[0]"
   ]
  },
  {
   "cell_type": "code",
   "execution_count": 53,
   "metadata": {},
   "outputs": [
    {
     "data": {
      "text/plain": [
       "anno\n",
       "1916    1\n",
       "1925    1\n",
       "1927    1\n",
       "1929    2\n",
       "1930    1\n",
       "dtype: int64"
      ]
     },
     "execution_count": 53,
     "metadata": {},
     "output_type": "execute_result"
    }
   ],
   "source": [
    "movies[movies['homepage'].isnull()].groupby('anno').size().head()"
   ]
  },
  {
   "cell_type": "markdown",
   "metadata": {},
   "source": [
    "ESERCIZIO PUNTO QUATTRO\n",
    "    extract the domain"
   ]
  },
  {
   "cell_type": "code",
   "execution_count": 54,
   "metadata": {
    "collapsed": true
   },
   "outputs": [],
   "source": [
    "array_domain = []\n",
    "\n",
    "for i in range(len(movies)):\n",
    "    temporaneo = re.findall('//([\\w]+[\\.]?[\\w]+[\\.]?[\\w]+)', str(movies['homepage'][i]))\n",
    "    array_domain.append(temporaneo)\n",
    "movies['dominio'] = array_domain"
   ]
  },
  {
   "cell_type": "markdown",
   "metadata": {},
   "source": [
    "ESERCIZIO PUNTO CINQUE \n",
    "extract a set normalized tables"
   ]
  },
  {
   "cell_type": "code",
   "execution_count": 55,
   "metadata": {},
   "outputs": [
    {
     "data": {
      "text/html": [
       "<div>\n",
       "<style>\n",
       "    .dataframe thead tr:only-child th {\n",
       "        text-align: right;\n",
       "    }\n",
       "\n",
       "    .dataframe thead th {\n",
       "        text-align: left;\n",
       "    }\n",
       "\n",
       "    .dataframe tbody tr th {\n",
       "        vertical-align: top;\n",
       "    }\n",
       "</style>\n",
       "<table border=\"1\" class=\"dataframe\">\n",
       "  <thead>\n",
       "    <tr style=\"text-align: right;\">\n",
       "      <th></th>\n",
       "      <th>cast_id</th>\n",
       "      <th>character</th>\n",
       "      <th>credit_id</th>\n",
       "      <th>gender</th>\n",
       "      <th>id</th>\n",
       "      <th>name</th>\n",
       "    </tr>\n",
       "  </thead>\n",
       "  <tbody>\n",
       "    <tr>\n",
       "      <th>0</th>\n",
       "      <td>242</td>\n",
       "      <td>Jake Sully</td>\n",
       "      <td>5602a8a7c3a3685532001c9a</td>\n",
       "      <td>2</td>\n",
       "      <td>65731</td>\n",
       "      <td>Sam Worthington</td>\n",
       "    </tr>\n",
       "    <tr>\n",
       "      <th>1</th>\n",
       "      <td>3</td>\n",
       "      <td>Neytiri</td>\n",
       "      <td>52fe48009251416c750ac9cb</td>\n",
       "      <td>1</td>\n",
       "      <td>8691</td>\n",
       "      <td>Zoe Saldana</td>\n",
       "    </tr>\n",
       "    <tr>\n",
       "      <th>2</th>\n",
       "      <td>25</td>\n",
       "      <td>Dr. Grace Augustine</td>\n",
       "      <td>52fe48009251416c750aca39</td>\n",
       "      <td>1</td>\n",
       "      <td>10205</td>\n",
       "      <td>Sigourney Weaver</td>\n",
       "    </tr>\n",
       "    <tr>\n",
       "      <th>3</th>\n",
       "      <td>4</td>\n",
       "      <td>Col. Quaritch</td>\n",
       "      <td>52fe48009251416c750ac9cf</td>\n",
       "      <td>2</td>\n",
       "      <td>32747</td>\n",
       "      <td>Stephen Lang</td>\n",
       "    </tr>\n",
       "    <tr>\n",
       "      <th>4</th>\n",
       "      <td>5</td>\n",
       "      <td>Trudy Chacon</td>\n",
       "      <td>52fe48009251416c750ac9d3</td>\n",
       "      <td>1</td>\n",
       "      <td>17647</td>\n",
       "      <td>Michelle Rodriguez</td>\n",
       "    </tr>\n",
       "  </tbody>\n",
       "</table>\n",
       "</div>"
      ],
      "text/plain": [
       "  cast_id            character                 credit_id gender     id  \\\n",
       "0     242           Jake Sully  5602a8a7c3a3685532001c9a      2  65731   \n",
       "1       3              Neytiri  52fe48009251416c750ac9cb      1   8691   \n",
       "2      25  Dr. Grace Augustine  52fe48009251416c750aca39      1  10205   \n",
       "3       4        Col. Quaritch  52fe48009251416c750ac9cf      2  32747   \n",
       "4       5         Trudy Chacon  52fe48009251416c750ac9d3      1  17647   \n",
       "\n",
       "                 name  \n",
       "0     Sam Worthington  \n",
       "1         Zoe Saldana  \n",
       "2    Sigourney Weaver  \n",
       "3        Stephen Lang  \n",
       "4  Michelle Rodriguez  "
      ]
     },
     "execution_count": 55,
     "metadata": {},
     "output_type": "execute_result"
    }
   ],
   "source": [
    "#ho creato un set di tabelle normalizzate che mostrano il cast per i primi 50 film del dataset credit\n",
    "\n",
    "n_film = credits['movie_id'][:50]\n",
    "\n",
    "for i in range(len(n_film)):\n",
    "    whole_cast = json.loads(credits['cast'][i])\n",
    "    colonne = ['cast_id','character','credit_id','gender','id','name']\n",
    "    globals()['movie_'+str(n_film[i])] = pd.DataFrame(columns = colonne)\n",
    "    \n",
    "    for a in range(len(whole_cast)):\n",
    "        tempp = list(whole_cast[a].values())\n",
    "        del tempp[-1]\n",
    "        globals()['movie_'+str(n_film[i])].loc[a] = tempp  \n",
    "\n",
    "#per chiamare la tabella normalizzata basta scrivere movie_(movie_id)\n",
    "#ad esempio :\n",
    "movie_19995.head()"
   ]
  },
  {
   "cell_type": "markdown",
   "metadata": {},
   "source": [
    "ESERCIZIO PUNTO SEI compute the gross margin"
   ]
  },
  {
   "cell_type": "code",
   "execution_count": 56,
   "metadata": {
    "collapsed": true
   },
   "outputs": [],
   "source": [
    "movies['gross_margin'] = movies['revenue'] - movies['budget']"
   ]
  },
  {
   "cell_type": "code",
   "execution_count": 57,
   "metadata": {},
   "outputs": [
    {
     "data": {
      "text/html": [
       "<div>\n",
       "<style>\n",
       "    .dataframe thead tr:only-child th {\n",
       "        text-align: right;\n",
       "    }\n",
       "\n",
       "    .dataframe thead th {\n",
       "        text-align: left;\n",
       "    }\n",
       "\n",
       "    .dataframe tbody tr th {\n",
       "        vertical-align: top;\n",
       "    }\n",
       "</style>\n",
       "<table border=\"1\" class=\"dataframe\">\n",
       "  <thead>\n",
       "    <tr style=\"text-align: right;\">\n",
       "      <th></th>\n",
       "      <th>title</th>\n",
       "      <th>gross_margin</th>\n",
       "    </tr>\n",
       "  </thead>\n",
       "  <tbody>\n",
       "    <tr>\n",
       "      <th>0</th>\n",
       "      <td>Avatar</td>\n",
       "      <td>2550965087</td>\n",
       "    </tr>\n",
       "    <tr>\n",
       "      <th>1</th>\n",
       "      <td>Pirates of the Caribbean: At World's End</td>\n",
       "      <td>661000000</td>\n",
       "    </tr>\n",
       "    <tr>\n",
       "      <th>2</th>\n",
       "      <td>Spectre</td>\n",
       "      <td>635674609</td>\n",
       "    </tr>\n",
       "    <tr>\n",
       "      <th>3</th>\n",
       "      <td>The Dark Knight Rises</td>\n",
       "      <td>834939099</td>\n",
       "    </tr>\n",
       "    <tr>\n",
       "      <th>4</th>\n",
       "      <td>John Carter</td>\n",
       "      <td>24139100</td>\n",
       "    </tr>\n",
       "  </tbody>\n",
       "</table>\n",
       "</div>"
      ],
      "text/plain": [
       "                                      title  gross_margin\n",
       "0                                    Avatar    2550965087\n",
       "1  Pirates of the Caribbean: At World's End     661000000\n",
       "2                                   Spectre     635674609\n",
       "3                     The Dark Knight Rises     834939099\n",
       "4                               John Carter      24139100"
      ]
     },
     "execution_count": 57,
     "metadata": {},
     "output_type": "execute_result"
    }
   ],
   "source": [
    "movies[['title','gross_margin']].head()"
   ]
  },
  {
   "cell_type": "markdown",
   "metadata": {},
   "source": [
    "ESERCIZIO PUNTO SETTE compute the number of crew members"
   ]
  },
  {
   "cell_type": "code",
   "execution_count": 58,
   "metadata": {
    "collapsed": true
   },
   "outputs": [],
   "source": [
    "array_crew = []\n",
    "\n",
    "for i in range(len(credits)):\n",
    "    crew_members = json.loads(credits['crew'][i])\n",
    "    array_crew.append(len(crew_members))\n",
    "credits['crew_members'] = array_crew"
   ]
  },
  {
   "cell_type": "code",
   "execution_count": 59,
   "metadata": {},
   "outputs": [
    {
     "data": {
      "text/html": [
       "<div>\n",
       "<style>\n",
       "    .dataframe thead tr:only-child th {\n",
       "        text-align: right;\n",
       "    }\n",
       "\n",
       "    .dataframe thead th {\n",
       "        text-align: left;\n",
       "    }\n",
       "\n",
       "    .dataframe tbody tr th {\n",
       "        vertical-align: top;\n",
       "    }\n",
       "</style>\n",
       "<table border=\"1\" class=\"dataframe\">\n",
       "  <thead>\n",
       "    <tr style=\"text-align: right;\">\n",
       "      <th></th>\n",
       "      <th>movie_id</th>\n",
       "      <th>title</th>\n",
       "      <th>cast</th>\n",
       "      <th>crew</th>\n",
       "      <th>n_cast_mambers</th>\n",
       "      <th>crew_members</th>\n",
       "    </tr>\n",
       "  </thead>\n",
       "  <tbody>\n",
       "    <tr>\n",
       "      <th>0</th>\n",
       "      <td>19995</td>\n",
       "      <td>Avatar</td>\n",
       "      <td>[{\"cast_id\": 242, \"character\": \"Jake Sully\", \"...</td>\n",
       "      <td>[{\"credit_id\": \"52fe48009251416c750aca23\", \"de...</td>\n",
       "      <td>83</td>\n",
       "      <td>153</td>\n",
       "    </tr>\n",
       "    <tr>\n",
       "      <th>1</th>\n",
       "      <td>285</td>\n",
       "      <td>Pirates of the Caribbean: At World's End</td>\n",
       "      <td>[{\"cast_id\": 4, \"character\": \"Captain Jack Spa...</td>\n",
       "      <td>[{\"credit_id\": \"52fe4232c3a36847f800b579\", \"de...</td>\n",
       "      <td>34</td>\n",
       "      <td>32</td>\n",
       "    </tr>\n",
       "    <tr>\n",
       "      <th>2</th>\n",
       "      <td>206647</td>\n",
       "      <td>Spectre</td>\n",
       "      <td>[{\"cast_id\": 1, \"character\": \"James Bond\", \"cr...</td>\n",
       "      <td>[{\"credit_id\": \"54805967c3a36829b5002c41\", \"de...</td>\n",
       "      <td>83</td>\n",
       "      <td>155</td>\n",
       "    </tr>\n",
       "    <tr>\n",
       "      <th>3</th>\n",
       "      <td>49026</td>\n",
       "      <td>The Dark Knight Rises</td>\n",
       "      <td>[{\"cast_id\": 2, \"character\": \"Bruce Wayne / Ba...</td>\n",
       "      <td>[{\"credit_id\": \"52fe4781c3a36847f81398c3\", \"de...</td>\n",
       "      <td>158</td>\n",
       "      <td>217</td>\n",
       "    </tr>\n",
       "    <tr>\n",
       "      <th>4</th>\n",
       "      <td>49529</td>\n",
       "      <td>John Carter</td>\n",
       "      <td>[{\"cast_id\": 5, \"character\": \"John Carter\", \"c...</td>\n",
       "      <td>[{\"credit_id\": \"52fe479ac3a36847f813eaa3\", \"de...</td>\n",
       "      <td>27</td>\n",
       "      <td>132</td>\n",
       "    </tr>\n",
       "  </tbody>\n",
       "</table>\n",
       "</div>"
      ],
      "text/plain": [
       "   movie_id                                     title  \\\n",
       "0     19995                                    Avatar   \n",
       "1       285  Pirates of the Caribbean: At World's End   \n",
       "2    206647                                   Spectre   \n",
       "3     49026                     The Dark Knight Rises   \n",
       "4     49529                               John Carter   \n",
       "\n",
       "                                                cast  \\\n",
       "0  [{\"cast_id\": 242, \"character\": \"Jake Sully\", \"...   \n",
       "1  [{\"cast_id\": 4, \"character\": \"Captain Jack Spa...   \n",
       "2  [{\"cast_id\": 1, \"character\": \"James Bond\", \"cr...   \n",
       "3  [{\"cast_id\": 2, \"character\": \"Bruce Wayne / Ba...   \n",
       "4  [{\"cast_id\": 5, \"character\": \"John Carter\", \"c...   \n",
       "\n",
       "                                                crew  n_cast_mambers  \\\n",
       "0  [{\"credit_id\": \"52fe48009251416c750aca23\", \"de...              83   \n",
       "1  [{\"credit_id\": \"52fe4232c3a36847f800b579\", \"de...              34   \n",
       "2  [{\"credit_id\": \"54805967c3a36829b5002c41\", \"de...              83   \n",
       "3  [{\"credit_id\": \"52fe4781c3a36847f81398c3\", \"de...             158   \n",
       "4  [{\"credit_id\": \"52fe479ac3a36847f813eaa3\", \"de...              27   \n",
       "\n",
       "   crew_members  \n",
       "0           153  \n",
       "1            32  \n",
       "2           155  \n",
       "3           217  \n",
       "4           132  "
      ]
     },
     "execution_count": 59,
     "metadata": {},
     "output_type": "execute_result"
    }
   ],
   "source": [
    "credits.head()"
   ]
  },
  {
   "cell_type": "markdown",
   "metadata": {},
   "source": [
    "ESERCIZIO PUNTO OTTO number of directors"
   ]
  },
  {
   "cell_type": "code",
   "execution_count": 60,
   "metadata": {
    "collapsed": true
   },
   "outputs": [],
   "source": [
    "array_directors = []\n",
    "\n",
    "for a in range(len(credits)):\n",
    "    counter = 0\n",
    "    movie_crew = json.loads(credits['crew'][a])\n",
    "    \n",
    "    for b in range(len(movie_crew)):\n",
    "        for job in movie_crew[b].values():\n",
    "            if job == 'Director':\n",
    "                counter = counter + 1\n",
    "    \n",
    "    array_directors.append(counter)\n",
    "credits['number_of_directors'] = array_directors"
   ]
  },
  {
   "cell_type": "code",
   "execution_count": 61,
   "metadata": {},
   "outputs": [
    {
     "data": {
      "text/html": [
       "<div>\n",
       "<style>\n",
       "    .dataframe thead tr:only-child th {\n",
       "        text-align: right;\n",
       "    }\n",
       "\n",
       "    .dataframe thead th {\n",
       "        text-align: left;\n",
       "    }\n",
       "\n",
       "    .dataframe tbody tr th {\n",
       "        vertical-align: top;\n",
       "    }\n",
       "</style>\n",
       "<table border=\"1\" class=\"dataframe\">\n",
       "  <thead>\n",
       "    <tr style=\"text-align: right;\">\n",
       "      <th></th>\n",
       "      <th>movie_id</th>\n",
       "      <th>title</th>\n",
       "      <th>cast</th>\n",
       "      <th>crew</th>\n",
       "      <th>n_cast_mambers</th>\n",
       "      <th>crew_members</th>\n",
       "      <th>number_of_directors</th>\n",
       "    </tr>\n",
       "  </thead>\n",
       "  <tbody>\n",
       "    <tr>\n",
       "      <th>2769</th>\n",
       "      <td>2266</td>\n",
       "      <td>Paris, je t'aime</td>\n",
       "      <td>[{\"cast_id\": 24, \"character\": \"Touriste (Tuile...</td>\n",
       "      <td>[{\"credit_id\": \"52fe4348c3a36847f8048471\", \"de...</td>\n",
       "      <td>48</td>\n",
       "      <td>61</td>\n",
       "      <td>21</td>\n",
       "    </tr>\n",
       "    <tr>\n",
       "      <th>3053</th>\n",
       "      <td>87818</td>\n",
       "      <td>Movie 43</td>\n",
       "      <td>[{\"cast_id\": 18, \"character\": \"Vanessa (segmen...</td>\n",
       "      <td>[{\"credit_id\": \"52fe49d89251416c910bab3b\", \"de...</td>\n",
       "      <td>105</td>\n",
       "      <td>111</td>\n",
       "      <td>12</td>\n",
       "    </tr>\n",
       "    <tr>\n",
       "      <th>4050</th>\n",
       "      <td>756</td>\n",
       "      <td>Fantasia</td>\n",
       "      <td>[{\"cast_id\": 14, \"character\": \"Narrator - Narr...</td>\n",
       "      <td>[{\"credit_id\": \"52fe4272c3a36847f801f2e7\", \"de...</td>\n",
       "      <td>4</td>\n",
       "      <td>36</td>\n",
       "      <td>12</td>\n",
       "    </tr>\n",
       "    <tr>\n",
       "      <th>465</th>\n",
       "      <td>49948</td>\n",
       "      <td>Fantasia 2000</td>\n",
       "      <td>[{\"cast_id\": 3, \"character\": \"Himself - Introd...</td>\n",
       "      <td>[{\"credit_id\": \"59078d1c925141643300101e\", \"de...</td>\n",
       "      <td>12</td>\n",
       "      <td>46</td>\n",
       "      <td>8</td>\n",
       "    </tr>\n",
       "    <tr>\n",
       "      <th>4441</th>\n",
       "      <td>3170</td>\n",
       "      <td>Bambi</td>\n",
       "      <td>[{\"cast_id\": 9, \"character\": \"Young Bambi (voi...</td>\n",
       "      <td>[{\"credit_id\": \"52fe438cc3a36847f805ca73\", \"de...</td>\n",
       "      <td>11</td>\n",
       "      <td>53</td>\n",
       "      <td>7</td>\n",
       "    </tr>\n",
       "  </tbody>\n",
       "</table>\n",
       "</div>"
      ],
      "text/plain": [
       "      movie_id             title  \\\n",
       "2769      2266  Paris, je t'aime   \n",
       "3053     87818          Movie 43   \n",
       "4050       756          Fantasia   \n",
       "465      49948     Fantasia 2000   \n",
       "4441      3170             Bambi   \n",
       "\n",
       "                                                   cast  \\\n",
       "2769  [{\"cast_id\": 24, \"character\": \"Touriste (Tuile...   \n",
       "3053  [{\"cast_id\": 18, \"character\": \"Vanessa (segmen...   \n",
       "4050  [{\"cast_id\": 14, \"character\": \"Narrator - Narr...   \n",
       "465   [{\"cast_id\": 3, \"character\": \"Himself - Introd...   \n",
       "4441  [{\"cast_id\": 9, \"character\": \"Young Bambi (voi...   \n",
       "\n",
       "                                                   crew  n_cast_mambers  \\\n",
       "2769  [{\"credit_id\": \"52fe4348c3a36847f8048471\", \"de...              48   \n",
       "3053  [{\"credit_id\": \"52fe49d89251416c910bab3b\", \"de...             105   \n",
       "4050  [{\"credit_id\": \"52fe4272c3a36847f801f2e7\", \"de...               4   \n",
       "465   [{\"credit_id\": \"59078d1c925141643300101e\", \"de...              12   \n",
       "4441  [{\"credit_id\": \"52fe438cc3a36847f805ca73\", \"de...              11   \n",
       "\n",
       "      crew_members  number_of_directors  \n",
       "2769            61                   21  \n",
       "3053           111                   12  \n",
       "4050            36                   12  \n",
       "465             46                    8  \n",
       "4441            53                    7  "
      ]
     },
     "execution_count": 61,
     "metadata": {},
     "output_type": "execute_result"
    }
   ],
   "source": [
    "credits.sort_values('number_of_directors',ascending=False).head()"
   ]
  },
  {
   "cell_type": "markdown",
   "metadata": {},
   "source": [
    "ESERCIZIO PUNTO NOVE number of movies where each language is spoken"
   ]
  },
  {
   "cell_type": "code",
   "execution_count": 62,
   "metadata": {},
   "outputs": [
    {
     "data": {
      "text/plain": [
       "[('English', 4485),\n",
       " ('Français', 437),\n",
       " ('Español', 351),\n",
       " ('Deutsch', 262),\n",
       " ('Italiano', 188)]"
      ]
     },
     "execution_count": 62,
     "metadata": {},
     "output_type": "execute_result"
    }
   ],
   "source": [
    "language_list = []\n",
    "\n",
    "for i in range(len(movies)):\n",
    "    intermedio = json.loads(movies['spoken_languages'][i])\n",
    "    for j in range(len(intermedio)):\n",
    "        scatola = intermedio[j].get('name')\n",
    "        language_list.append(scatola)\n",
    "    \n",
    "#ora basta contare gli elementi nella lista\n",
    "from collections import Counter\n",
    "conta = Counter()\n",
    "for item in language_list:\n",
    "    conta[item] += 1\n",
    "conta.most_common(5)"
   ]
  },
  {
   "cell_type": "markdown",
   "metadata": {
    "collapsed": true
   },
   "source": [
    "ESERCIZIO PUNTO DIECI overall revenue for each company and decade"
   ]
  },
  {
   "cell_type": "code",
   "execution_count": 63,
   "metadata": {
    "collapsed": true
   },
   "outputs": [],
   "source": [
    "#nel dataset c'è un film che non ha casa di produzione con anno 2015, lascio vuoto\n",
    "movies['release_date']=pd.to_datetime(movies['release_date'])"
   ]
  },
  {
   "cell_type": "code",
   "execution_count": 64,
   "metadata": {},
   "outputs": [],
   "source": [
    "companies = []\n",
    "revenues = []\n",
    "years = []\n",
    "for i in range(len(movies)):\n",
    "    production_c = json.loads(movies['production_companies'][i])\n",
    "    for k in production_c:\n",
    "        companies.append(k.get('name'))\n",
    "        revenues.append(movies['revenue'][i])\n",
    "        years.append(int(movies['release_date'][i].year))\n",
    "#il metodo più conveniente è creare un dataframe in cui inserisco i dati, serve anche dopo\n",
    "dataf = pd.DataFrame(columns=['company','revenue','year'])\n",
    "dataf['company'], dataf['revenue'], dataf['year'] = companies, revenues, years \n",
    "#ora devo raggruppare gli anni per decadi e per company"
   ]
  },
  {
   "cell_type": "code",
   "execution_count": 65,
   "metadata": {},
   "outputs": [
    {
     "data": {
      "text/html": [
       "<div>\n",
       "<style>\n",
       "    .dataframe thead tr:only-child th {\n",
       "        text-align: right;\n",
       "    }\n",
       "\n",
       "    .dataframe thead th {\n",
       "        text-align: left;\n",
       "    }\n",
       "\n",
       "    .dataframe tbody tr th {\n",
       "        vertical-align: top;\n",
       "    }\n",
       "</style>\n",
       "<table border=\"1\" class=\"dataframe\">\n",
       "  <thead>\n",
       "    <tr style=\"text-align: right;\">\n",
       "      <th></th>\n",
       "      <th>company</th>\n",
       "      <th>revenue</th>\n",
       "      <th>year</th>\n",
       "    </tr>\n",
       "  </thead>\n",
       "  <tbody>\n",
       "    <tr>\n",
       "      <th>13672</th>\n",
       "      <td>Columbia Pictures</td>\n",
       "      <td>2040920</td>\n",
       "      <td>1992</td>\n",
       "    </tr>\n",
       "    <tr>\n",
       "      <th>13673</th>\n",
       "      <td>Front Street Pictures</td>\n",
       "      <td>0</td>\n",
       "      <td>2013</td>\n",
       "    </tr>\n",
       "    <tr>\n",
       "      <th>13674</th>\n",
       "      <td>Muse Entertainment Enterprises</td>\n",
       "      <td>0</td>\n",
       "      <td>2013</td>\n",
       "    </tr>\n",
       "    <tr>\n",
       "      <th>13675</th>\n",
       "      <td>rusty bear entertainment</td>\n",
       "      <td>0</td>\n",
       "      <td>2005</td>\n",
       "    </tr>\n",
       "    <tr>\n",
       "      <th>13676</th>\n",
       "      <td>lucky crow films</td>\n",
       "      <td>0</td>\n",
       "      <td>2005</td>\n",
       "    </tr>\n",
       "  </tbody>\n",
       "</table>\n",
       "</div>"
      ],
      "text/plain": [
       "                              company  revenue  year\n",
       "13672               Columbia Pictures  2040920  1992\n",
       "13673           Front Street Pictures        0  2013\n",
       "13674  Muse Entertainment Enterprises        0  2013\n",
       "13675        rusty bear entertainment        0  2005\n",
       "13676                lucky crow films        0  2005"
      ]
     },
     "execution_count": 65,
     "metadata": {},
     "output_type": "execute_result"
    }
   ],
   "source": [
    "dataf.tail()"
   ]
  },
  {
   "cell_type": "code",
   "execution_count": 66,
   "metadata": {
    "scrolled": false
   },
   "outputs": [
    {
     "data": {
      "text/plain": [
       "company                          year\n",
       "\"DIA\" Productions GmbH & Co. KG  2000    44350926\n",
       "1.85 Films                       2010       98017\n",
       "10 West Studios                  2010           0\n",
       "100 Bares                        2000    33965843\n",
       "                                 2010    24000000\n",
       "Name: revenue, dtype: int64"
      ]
     },
     "execution_count": 66,
     "metadata": {},
     "output_type": "execute_result"
    }
   ],
   "source": [
    "dataf.groupby(['company',(dataf['year']//10)*10])['revenue'].sum().head()"
   ]
  },
  {
   "cell_type": "markdown",
   "metadata": {
    "collapsed": true
   },
   "source": [
    "ESERCIZIO PUNTO UNDICI for each decade compute the company with max revenue"
   ]
  },
  {
   "cell_type": "code",
   "execution_count": 67,
   "metadata": {
    "scrolled": false
   },
   "outputs": [
    {
     "data": {
      "text/plain": [
       "year  company                  \n",
       "1910  Triangle Film Corporation     8394751\n",
       "      Wark Producing Corp.          8394751\n",
       "1920  Metro-Goldwyn-Mayer (MGM)    22000000\n",
       "      Nero Films                          0\n",
       "      Paramount Pictures             650422\n",
       "Name: revenue, dtype: int64"
      ]
     },
     "execution_count": 67,
     "metadata": {},
     "output_type": "execute_result"
    }
   ],
   "source": [
    "grouped = dataf.groupby([(dataf['year']//10)*10,'company'])['revenue'].max()\n",
    "grouped.head(5)"
   ]
  },
  {
   "cell_type": "code",
   "execution_count": 68,
   "metadata": {
    "scrolled": false
   },
   "outputs": [
    {
     "data": {
      "text/plain": [
       "{(1910, 'Triangle Film Corporation'): 8394751,\n",
       " (1910, 'Wark Producing Corp.'): 8394751,\n",
       " (1920, 'Metro-Goldwyn-Mayer (MGM)'): 22000000,\n",
       " (1930, 'Metro-Goldwyn-Mayer (MGM)'): 400176459,\n",
       " (1930, 'Selznick International Pictures'): 400176459,\n",
       " (1940, 'Walt Disney Productions'): 267447150,\n",
       " (1950, 'Paramount Pictures'): 36000000,\n",
       " (1950, 'Twentieth Century Fox Film Corporation'): 36000000,\n",
       " (1960, 'Argyle Enterprises'): 286214286,\n",
       " (1960, 'Robert Wise Productions'): 286214286,\n",
       " (1960, 'Twentieth Century Fox Film Corporation'): 286214286,\n",
       " (1970, 'Lucasfilm'): 775398007,\n",
       " (1970, 'Twentieth Century Fox Film Corporation'): 775398007,\n",
       " (1980, 'Amblin Entertainment'): 792910554,\n",
       " (1980, 'Universal Pictures'): 792910554,\n",
       " (1990, 'Lightstorm Entertainment'): 1845034188,\n",
       " (1990, 'Paramount Pictures'): 1845034188,\n",
       " (1990, 'Twentieth Century Fox Film Corporation'): 1845034188,\n",
       " (2000, 'Dune Entertainment'): 2787965087,\n",
       " (2000, 'Ingenious Film Partners'): 2787965087,\n",
       " (2000, 'Lightstorm Entertainment'): 2787965087,\n",
       " (2000, 'Twentieth Century Fox Film Corporation'): 2787965087,\n",
       " (2010, 'Marvel Studios'): 1519557910,\n",
       " (2010, 'Paramount Pictures'): 1519557910}"
      ]
     },
     "execution_count": 68,
     "metadata": {},
     "output_type": "execute_result"
    }
   ],
   "source": [
    "#estraggo i valori indice relativi all'anno\n",
    "indice_anno = grouped.index.levels[0].values\n",
    "indice = []\n",
    "valore = []\n",
    "\n",
    "for i in range(len(indice_anno)):\n",
    "    part_anno = grouped.loc[grouped.index.get_level_values('year') == indice_anno[i]]\n",
    "    max_rev = part_anno.max()\n",
    "    tempo_ = part_anno[part_anno == max_rev]\n",
    "    for a in range(len(tempo_)):\n",
    "        indice.append(tempo_.index[a])\n",
    "        valore.append(tempo_.values[a])\n",
    "#ottengo cosi le aziende che per ogni decennio hanno avuto una revenue tra le più alte\n",
    "final_dict = dict(zip(indice, valore))\n",
    "final_dict\n",
    "    "
   ]
  },
  {
   "cell_type": "markdown",
   "metadata": {},
   "source": [
    "ESERCIZIO DODICI for each year how many movies have revenue < budget"
   ]
  },
  {
   "cell_type": "code",
   "execution_count": 69,
   "metadata": {
    "scrolled": true
   },
   "outputs": [
    {
     "data": {
      "text/plain": [
       "anno\n",
       "1927    1\n",
       "1947    1\n",
       "1948    1\n",
       "1954    1\n",
       "1962    1\n",
       "dtype: int64"
      ]
     },
     "execution_count": 69,
     "metadata": {},
     "output_type": "execute_result"
    }
   ],
   "source": [
    "movies[movies['gross_margin'] < 0].groupby('anno').size().head()"
   ]
  }
 ],
 "metadata": {
  "kernelspec": {
   "display_name": "Python 3",
   "language": "python",
   "name": "python3"
  },
  "language_info": {
   "codemirror_mode": {
    "name": "ipython",
    "version": 3
   },
   "file_extension": ".py",
   "mimetype": "text/x-python",
   "name": "python",
   "nbconvert_exporter": "python",
   "pygments_lexer": "ipython3",
   "version": "3.6.3"
  }
 },
 "nbformat": 4,
 "nbformat_minor": 2
}
