{
 "cells": [
  {
   "cell_type": "code",
   "execution_count": 1,
   "metadata": {
    "collapsed": true
   },
   "outputs": [],
   "source": [
    "import pandas as pd\n",
    "import json \n",
    "import re"
   ]
  },
  {
   "cell_type": "code",
   "execution_count": 2,
   "metadata": {
    "collapsed": true
   },
   "outputs": [],
   "source": [
    "credits = pd.read_csv('tmdb_5000_credits.csv')\n",
    "movies = pd.read_csv('tmdb_5000_movies.csv')"
   ]
  },
  {
   "cell_type": "markdown",
   "metadata": {},
   "source": [
    "ESERCIZIO PUNTO UNO\n",
    " number of cast members"
   ]
  },
  {
   "cell_type": "code",
   "execution_count": 3,
   "metadata": {
    "collapsed": true
   },
   "outputs": [],
   "source": [
    "array = []\n",
    "\n",
    "for i in range(len(credits)):\n",
    "    temp = json.loads(credits.cast[i])\n",
    "    array.append(len(temp))\n",
    "credits['n_cast_mambers'] = array\n"
   ]
  },
  {
   "cell_type": "code",
   "execution_count": 4,
   "metadata": {},
   "outputs": [
    {
     "data": {
      "text/html": [
       "<div>\n",
       "<style>\n",
       "    .dataframe thead tr:only-child th {\n",
       "        text-align: right;\n",
       "    }\n",
       "\n",
       "    .dataframe thead th {\n",
       "        text-align: left;\n",
       "    }\n",
       "\n",
       "    .dataframe tbody tr th {\n",
       "        vertical-align: top;\n",
       "    }\n",
       "</style>\n",
       "<table border=\"1\" class=\"dataframe\">\n",
       "  <thead>\n",
       "    <tr style=\"text-align: right;\">\n",
       "      <th></th>\n",
       "      <th>movie_id</th>\n",
       "      <th>title</th>\n",
       "      <th>cast</th>\n",
       "      <th>crew</th>\n",
       "      <th>n_cast_mambers</th>\n",
       "    </tr>\n",
       "  </thead>\n",
       "  <tbody>\n",
       "    <tr>\n",
       "      <th>0</th>\n",
       "      <td>19995</td>\n",
       "      <td>Avatar</td>\n",
       "      <td>[{\"cast_id\": 242, \"character\": \"Jake Sully\", \"...</td>\n",
       "      <td>[{\"credit_id\": \"52fe48009251416c750aca23\", \"de...</td>\n",
       "      <td>83</td>\n",
       "    </tr>\n",
       "    <tr>\n",
       "      <th>1</th>\n",
       "      <td>285</td>\n",
       "      <td>Pirates of the Caribbean: At World's End</td>\n",
       "      <td>[{\"cast_id\": 4, \"character\": \"Captain Jack Spa...</td>\n",
       "      <td>[{\"credit_id\": \"52fe4232c3a36847f800b579\", \"de...</td>\n",
       "      <td>34</td>\n",
       "    </tr>\n",
       "    <tr>\n",
       "      <th>2</th>\n",
       "      <td>206647</td>\n",
       "      <td>Spectre</td>\n",
       "      <td>[{\"cast_id\": 1, \"character\": \"James Bond\", \"cr...</td>\n",
       "      <td>[{\"credit_id\": \"54805967c3a36829b5002c41\", \"de...</td>\n",
       "      <td>83</td>\n",
       "    </tr>\n",
       "    <tr>\n",
       "      <th>3</th>\n",
       "      <td>49026</td>\n",
       "      <td>The Dark Knight Rises</td>\n",
       "      <td>[{\"cast_id\": 2, \"character\": \"Bruce Wayne / Ba...</td>\n",
       "      <td>[{\"credit_id\": \"52fe4781c3a36847f81398c3\", \"de...</td>\n",
       "      <td>158</td>\n",
       "    </tr>\n",
       "    <tr>\n",
       "      <th>4</th>\n",
       "      <td>49529</td>\n",
       "      <td>John Carter</td>\n",
       "      <td>[{\"cast_id\": 5, \"character\": \"John Carter\", \"c...</td>\n",
       "      <td>[{\"credit_id\": \"52fe479ac3a36847f813eaa3\", \"de...</td>\n",
       "      <td>27</td>\n",
       "    </tr>\n",
       "  </tbody>\n",
       "</table>\n",
       "</div>"
      ],
      "text/plain": [
       "   movie_id                                     title  \\\n",
       "0     19995                                    Avatar   \n",
       "1       285  Pirates of the Caribbean: At World's End   \n",
       "2    206647                                   Spectre   \n",
       "3     49026                     The Dark Knight Rises   \n",
       "4     49529                               John Carter   \n",
       "\n",
       "                                                cast  \\\n",
       "0  [{\"cast_id\": 242, \"character\": \"Jake Sully\", \"...   \n",
       "1  [{\"cast_id\": 4, \"character\": \"Captain Jack Spa...   \n",
       "2  [{\"cast_id\": 1, \"character\": \"James Bond\", \"cr...   \n",
       "3  [{\"cast_id\": 2, \"character\": \"Bruce Wayne / Ba...   \n",
       "4  [{\"cast_id\": 5, \"character\": \"John Carter\", \"c...   \n",
       "\n",
       "                                                crew  n_cast_mambers  \n",
       "0  [{\"credit_id\": \"52fe48009251416c750aca23\", \"de...              83  \n",
       "1  [{\"credit_id\": \"52fe4232c3a36847f800b579\", \"de...              34  \n",
       "2  [{\"credit_id\": \"54805967c3a36829b5002c41\", \"de...              83  \n",
       "3  [{\"credit_id\": \"52fe4781c3a36847f81398c3\", \"de...             158  \n",
       "4  [{\"credit_id\": \"52fe479ac3a36847f813eaa3\", \"de...              27  "
      ]
     },
     "execution_count": 4,
     "metadata": {},
     "output_type": "execute_result"
    }
   ],
   "source": [
    "credits.head()"
   ]
  },
  {
   "cell_type": "markdown",
   "metadata": {
    "collapsed": true
   },
   "source": [
    "ESERCIZIO PUNTO DUE\n",
    "    how many movies have no homepage"
   ]
  },
  {
   "cell_type": "code",
   "execution_count": 5,
   "metadata": {},
   "outputs": [
    {
     "data": {
      "text/plain": [
       "3091"
      ]
     },
     "execution_count": 5,
     "metadata": {},
     "output_type": "execute_result"
    }
   ],
   "source": [
    "len(movies[movies['homepage'].isnull()])"
   ]
  },
  {
   "cell_type": "markdown",
   "metadata": {},
   "source": [
    "ESERCIZIO PUNTO TRE\n",
    "    for each year how many movies have no homepage"
   ]
  },
  {
   "cell_type": "code",
   "execution_count": 6,
   "metadata": {},
   "outputs": [
    {
     "name": "stderr",
     "output_type": "stream",
     "text": [
      "C:\\Users\\tesot\\AppData\\Local\\Continuum\\anaconda3\\lib\\site-packages\\ipykernel_launcher.py:2: SettingWithCopyWarning: \n",
      "A value is trying to be set on a copy of a slice from a DataFrame.\n",
      "Try using .loc[row_indexer,col_indexer] = value instead\n",
      "\n",
      "See the caveats in the documentation: http://pandas.pydata.org/pandas-docs/stable/indexing.html#indexing-view-versus-copy\n",
      "  \n"
     ]
    }
   ],
   "source": [
    "sub = movies[['homepage','release_date']]\n",
    "sub['anno'] = sub['release_date'].str.split('-', expand=True)[0]"
   ]
  },
  {
   "cell_type": "code",
   "execution_count": 7,
   "metadata": {},
   "outputs": [
    {
     "data": {
      "text/plain": [
       "anno\n",
       "1916    1\n",
       "1925    1\n",
       "1927    1\n",
       "1929    2\n",
       "1930    1\n",
       "dtype: int64"
      ]
     },
     "execution_count": 7,
     "metadata": {},
     "output_type": "execute_result"
    }
   ],
   "source": [
    "sub[sub['homepage'].isnull()].groupby('anno').size().head()"
   ]
  },
  {
   "cell_type": "markdown",
   "metadata": {},
   "source": [
    "ESERCIZIO PUNTO QUATTRO\n",
    "    extract the domain"
   ]
  },
  {
   "cell_type": "code",
   "execution_count": 8,
   "metadata": {
    "collapsed": true
   },
   "outputs": [],
   "source": [
    "array_domain = []\n",
    "\n",
    "for i in range(len(movies)):\n",
    "    temporaneo = re.findall('//([\\w]+[\\.]?[\\w]+[\\.]?[\\w]+)', str(movies['homepage'][i]))\n",
    "    array_domain.append(temporaneo)\n",
    "movies['dominio'] = array_domain"
   ]
  },
  {
   "cell_type": "markdown",
   "metadata": {},
   "source": [
    "ESERCIZIO PUNTO CINQUE \n",
    "extract a set normalized tables"
   ]
  },
  {
   "cell_type": "code",
   "execution_count": 62,
   "metadata": {},
   "outputs": [
    {
     "name": "stdout",
     "output_type": "stream",
     "text": [
      "6.04 s ± 17.3 ms per loop (mean ± std. dev. of 7 runs, 1 loop each)\n"
     ]
    }
   ],
   "source": [
    "#ho creato un set di tabelle normalizzate che mostrano il cast per i primi 100 film del dataset credit\n",
    "\n",
    "n_film = credits['movie_id'][:50]\n",
    "\n",
    "for i in range(len(n_film)):\n",
    "    whole_cast = json.loads(credits['cast'][i])\n",
    "    colonne = ['cast_id','character','credit_id','gender','id','name']\n",
    "    globals()['movie_'+str(n_film[i])] = pd.DataFrame(columns = colonne)\n",
    "    \n",
    "    for a in range(len(whole_cast)):\n",
    "        tempp = list(whole_cast[a].values())\n",
    "        del tempp[-1]\n",
    "        globals()['movie_'+str(n_film[i])].loc[a] = tempp  \n",
    "\n",
    "#per chiamare la tabella normalizzata basta scrivere movie_(movie_id)\n",
    "#ad esempio :\n",
    "movie_19995.head()"
   ]
  },
  {
   "cell_type": "markdown",
   "metadata": {},
   "source": [
    "ESERCIZIO PUNTO SEI compute the gross margin"
   ]
  },
  {
   "cell_type": "code",
   "execution_count": 11,
   "metadata": {
    "collapsed": true
   },
   "outputs": [],
   "source": [
    "movies['gross_margin'] = movies['revenue'] - movies['budget']"
   ]
  },
  {
   "cell_type": "code",
   "execution_count": 12,
   "metadata": {},
   "outputs": [
    {
     "data": {
      "text/html": [
       "<div>\n",
       "<style>\n",
       "    .dataframe thead tr:only-child th {\n",
       "        text-align: right;\n",
       "    }\n",
       "\n",
       "    .dataframe thead th {\n",
       "        text-align: left;\n",
       "    }\n",
       "\n",
       "    .dataframe tbody tr th {\n",
       "        vertical-align: top;\n",
       "    }\n",
       "</style>\n",
       "<table border=\"1\" class=\"dataframe\">\n",
       "  <thead>\n",
       "    <tr style=\"text-align: right;\">\n",
       "      <th></th>\n",
       "      <th>title</th>\n",
       "      <th>gross_margin</th>\n",
       "    </tr>\n",
       "  </thead>\n",
       "  <tbody>\n",
       "    <tr>\n",
       "      <th>0</th>\n",
       "      <td>Avatar</td>\n",
       "      <td>2550965087</td>\n",
       "    </tr>\n",
       "    <tr>\n",
       "      <th>1</th>\n",
       "      <td>Pirates of the Caribbean: At World's End</td>\n",
       "      <td>661000000</td>\n",
       "    </tr>\n",
       "    <tr>\n",
       "      <th>2</th>\n",
       "      <td>Spectre</td>\n",
       "      <td>635674609</td>\n",
       "    </tr>\n",
       "    <tr>\n",
       "      <th>3</th>\n",
       "      <td>The Dark Knight Rises</td>\n",
       "      <td>834939099</td>\n",
       "    </tr>\n",
       "    <tr>\n",
       "      <th>4</th>\n",
       "      <td>John Carter</td>\n",
       "      <td>24139100</td>\n",
       "    </tr>\n",
       "  </tbody>\n",
       "</table>\n",
       "</div>"
      ],
      "text/plain": [
       "                                      title  gross_margin\n",
       "0                                    Avatar    2550965087\n",
       "1  Pirates of the Caribbean: At World's End     661000000\n",
       "2                                   Spectre     635674609\n",
       "3                     The Dark Knight Rises     834939099\n",
       "4                               John Carter      24139100"
      ]
     },
     "execution_count": 12,
     "metadata": {},
     "output_type": "execute_result"
    }
   ],
   "source": [
    "movies[['title','gross_margin']].head()"
   ]
  },
  {
   "cell_type": "markdown",
   "metadata": {},
   "source": [
    "ESERCIZIO PUNTO SETTE compute the number of crew members"
   ]
  },
  {
   "cell_type": "code",
   "execution_count": 13,
   "metadata": {
    "collapsed": true
   },
   "outputs": [],
   "source": [
    "array_crew = []\n",
    "\n",
    "for i in range(len(credits)):\n",
    "    crew_members = json.loads(credits['crew'][i])\n",
    "    array_crew.append(len(crew_members))\n",
    "credits['crew_members'] = array_crew"
   ]
  },
  {
   "cell_type": "code",
   "execution_count": 14,
   "metadata": {},
   "outputs": [
    {
     "data": {
      "text/html": [
       "<div>\n",
       "<style>\n",
       "    .dataframe thead tr:only-child th {\n",
       "        text-align: right;\n",
       "    }\n",
       "\n",
       "    .dataframe thead th {\n",
       "        text-align: left;\n",
       "    }\n",
       "\n",
       "    .dataframe tbody tr th {\n",
       "        vertical-align: top;\n",
       "    }\n",
       "</style>\n",
       "<table border=\"1\" class=\"dataframe\">\n",
       "  <thead>\n",
       "    <tr style=\"text-align: right;\">\n",
       "      <th></th>\n",
       "      <th>movie_id</th>\n",
       "      <th>title</th>\n",
       "      <th>cast</th>\n",
       "      <th>crew</th>\n",
       "      <th>n_cast_mambers</th>\n",
       "      <th>crew_members</th>\n",
       "    </tr>\n",
       "  </thead>\n",
       "  <tbody>\n",
       "    <tr>\n",
       "      <th>0</th>\n",
       "      <td>19995</td>\n",
       "      <td>Avatar</td>\n",
       "      <td>[{\"cast_id\": 242, \"character\": \"Jake Sully\", \"...</td>\n",
       "      <td>[{\"credit_id\": \"52fe48009251416c750aca23\", \"de...</td>\n",
       "      <td>83</td>\n",
       "      <td>153</td>\n",
       "    </tr>\n",
       "    <tr>\n",
       "      <th>1</th>\n",
       "      <td>285</td>\n",
       "      <td>Pirates of the Caribbean: At World's End</td>\n",
       "      <td>[{\"cast_id\": 4, \"character\": \"Captain Jack Spa...</td>\n",
       "      <td>[{\"credit_id\": \"52fe4232c3a36847f800b579\", \"de...</td>\n",
       "      <td>34</td>\n",
       "      <td>32</td>\n",
       "    </tr>\n",
       "    <tr>\n",
       "      <th>2</th>\n",
       "      <td>206647</td>\n",
       "      <td>Spectre</td>\n",
       "      <td>[{\"cast_id\": 1, \"character\": \"James Bond\", \"cr...</td>\n",
       "      <td>[{\"credit_id\": \"54805967c3a36829b5002c41\", \"de...</td>\n",
       "      <td>83</td>\n",
       "      <td>155</td>\n",
       "    </tr>\n",
       "    <tr>\n",
       "      <th>3</th>\n",
       "      <td>49026</td>\n",
       "      <td>The Dark Knight Rises</td>\n",
       "      <td>[{\"cast_id\": 2, \"character\": \"Bruce Wayne / Ba...</td>\n",
       "      <td>[{\"credit_id\": \"52fe4781c3a36847f81398c3\", \"de...</td>\n",
       "      <td>158</td>\n",
       "      <td>217</td>\n",
       "    </tr>\n",
       "    <tr>\n",
       "      <th>4</th>\n",
       "      <td>49529</td>\n",
       "      <td>John Carter</td>\n",
       "      <td>[{\"cast_id\": 5, \"character\": \"John Carter\", \"c...</td>\n",
       "      <td>[{\"credit_id\": \"52fe479ac3a36847f813eaa3\", \"de...</td>\n",
       "      <td>27</td>\n",
       "      <td>132</td>\n",
       "    </tr>\n",
       "  </tbody>\n",
       "</table>\n",
       "</div>"
      ],
      "text/plain": [
       "   movie_id                                     title  \\\n",
       "0     19995                                    Avatar   \n",
       "1       285  Pirates of the Caribbean: At World's End   \n",
       "2    206647                                   Spectre   \n",
       "3     49026                     The Dark Knight Rises   \n",
       "4     49529                               John Carter   \n",
       "\n",
       "                                                cast  \\\n",
       "0  [{\"cast_id\": 242, \"character\": \"Jake Sully\", \"...   \n",
       "1  [{\"cast_id\": 4, \"character\": \"Captain Jack Spa...   \n",
       "2  [{\"cast_id\": 1, \"character\": \"James Bond\", \"cr...   \n",
       "3  [{\"cast_id\": 2, \"character\": \"Bruce Wayne / Ba...   \n",
       "4  [{\"cast_id\": 5, \"character\": \"John Carter\", \"c...   \n",
       "\n",
       "                                                crew  n_cast_mambers  \\\n",
       "0  [{\"credit_id\": \"52fe48009251416c750aca23\", \"de...              83   \n",
       "1  [{\"credit_id\": \"52fe4232c3a36847f800b579\", \"de...              34   \n",
       "2  [{\"credit_id\": \"54805967c3a36829b5002c41\", \"de...              83   \n",
       "3  [{\"credit_id\": \"52fe4781c3a36847f81398c3\", \"de...             158   \n",
       "4  [{\"credit_id\": \"52fe479ac3a36847f813eaa3\", \"de...              27   \n",
       "\n",
       "   crew_members  \n",
       "0           153  \n",
       "1            32  \n",
       "2           155  \n",
       "3           217  \n",
       "4           132  "
      ]
     },
     "execution_count": 14,
     "metadata": {},
     "output_type": "execute_result"
    }
   ],
   "source": [
    "credits.head()"
   ]
  },
  {
   "cell_type": "markdown",
   "metadata": {},
   "source": [
    "ESERCIZIO PUNTO OTTO number of directors"
   ]
  },
  {
   "cell_type": "code",
   "execution_count": 15,
   "metadata": {
    "collapsed": true
   },
   "outputs": [],
   "source": [
    "array_directors = []\n",
    "\n",
    "for a in range(len(credits)):\n",
    "    counter = 0\n",
    "    movie_crew = json.loads(credits['crew'][a])\n",
    "    \n",
    "    for b in range(len(movie_crew)):\n",
    "        for job in movie_crew[b].values():\n",
    "            if job == 'Director':\n",
    "                counter = counter + 1\n",
    "    \n",
    "    array_directors.append(counter)\n",
    "credits['number_of_directors'] = array_directors"
   ]
  },
  {
   "cell_type": "code",
   "execution_count": 16,
   "metadata": {},
   "outputs": [
    {
     "data": {
      "text/html": [
       "<div>\n",
       "<style>\n",
       "    .dataframe thead tr:only-child th {\n",
       "        text-align: right;\n",
       "    }\n",
       "\n",
       "    .dataframe thead th {\n",
       "        text-align: left;\n",
       "    }\n",
       "\n",
       "    .dataframe tbody tr th {\n",
       "        vertical-align: top;\n",
       "    }\n",
       "</style>\n",
       "<table border=\"1\" class=\"dataframe\">\n",
       "  <thead>\n",
       "    <tr style=\"text-align: right;\">\n",
       "      <th></th>\n",
       "      <th>movie_id</th>\n",
       "      <th>title</th>\n",
       "      <th>cast</th>\n",
       "      <th>crew</th>\n",
       "      <th>n_cast_mambers</th>\n",
       "      <th>crew_members</th>\n",
       "      <th>number_of_directors</th>\n",
       "    </tr>\n",
       "  </thead>\n",
       "  <tbody>\n",
       "    <tr>\n",
       "      <th>4798</th>\n",
       "      <td>9367</td>\n",
       "      <td>El Mariachi</td>\n",
       "      <td>[{\"cast_id\": 1, \"character\": \"El Mariachi\", \"c...</td>\n",
       "      <td>[{\"credit_id\": \"52fe44eec3a36847f80b280b\", \"de...</td>\n",
       "      <td>7</td>\n",
       "      <td>11</td>\n",
       "      <td>1</td>\n",
       "    </tr>\n",
       "    <tr>\n",
       "      <th>4799</th>\n",
       "      <td>72766</td>\n",
       "      <td>Newlyweds</td>\n",
       "      <td>[{\"cast_id\": 1, \"character\": \"Buzzy\", \"credit_...</td>\n",
       "      <td>[{\"credit_id\": \"52fe487dc3a368484e0fb013\", \"de...</td>\n",
       "      <td>5</td>\n",
       "      <td>8</td>\n",
       "      <td>1</td>\n",
       "    </tr>\n",
       "    <tr>\n",
       "      <th>4800</th>\n",
       "      <td>231617</td>\n",
       "      <td>Signed, Sealed, Delivered</td>\n",
       "      <td>[{\"cast_id\": 8, \"character\": \"Oliver O\\u2019To...</td>\n",
       "      <td>[{\"credit_id\": \"52fe4df3c3a36847f8275ecf\", \"de...</td>\n",
       "      <td>7</td>\n",
       "      <td>13</td>\n",
       "      <td>1</td>\n",
       "    </tr>\n",
       "    <tr>\n",
       "      <th>4801</th>\n",
       "      <td>126186</td>\n",
       "      <td>Shanghai Calling</td>\n",
       "      <td>[{\"cast_id\": 3, \"character\": \"Sam\", \"credit_id...</td>\n",
       "      <td>[{\"credit_id\": \"52fe4ad9c3a368484e16a36b\", \"de...</td>\n",
       "      <td>5</td>\n",
       "      <td>2</td>\n",
       "      <td>1</td>\n",
       "    </tr>\n",
       "    <tr>\n",
       "      <th>4802</th>\n",
       "      <td>25975</td>\n",
       "      <td>My Date with Drew</td>\n",
       "      <td>[{\"cast_id\": 3, \"character\": \"Herself\", \"credi...</td>\n",
       "      <td>[{\"credit_id\": \"58ce021b9251415a390165d9\", \"de...</td>\n",
       "      <td>8</td>\n",
       "      <td>5</td>\n",
       "      <td>3</td>\n",
       "    </tr>\n",
       "  </tbody>\n",
       "</table>\n",
       "</div>"
      ],
      "text/plain": [
       "      movie_id                      title  \\\n",
       "4798      9367                El Mariachi   \n",
       "4799     72766                  Newlyweds   \n",
       "4800    231617  Signed, Sealed, Delivered   \n",
       "4801    126186           Shanghai Calling   \n",
       "4802     25975          My Date with Drew   \n",
       "\n",
       "                                                   cast  \\\n",
       "4798  [{\"cast_id\": 1, \"character\": \"El Mariachi\", \"c...   \n",
       "4799  [{\"cast_id\": 1, \"character\": \"Buzzy\", \"credit_...   \n",
       "4800  [{\"cast_id\": 8, \"character\": \"Oliver O\\u2019To...   \n",
       "4801  [{\"cast_id\": 3, \"character\": \"Sam\", \"credit_id...   \n",
       "4802  [{\"cast_id\": 3, \"character\": \"Herself\", \"credi...   \n",
       "\n",
       "                                                   crew  n_cast_mambers  \\\n",
       "4798  [{\"credit_id\": \"52fe44eec3a36847f80b280b\", \"de...               7   \n",
       "4799  [{\"credit_id\": \"52fe487dc3a368484e0fb013\", \"de...               5   \n",
       "4800  [{\"credit_id\": \"52fe4df3c3a36847f8275ecf\", \"de...               7   \n",
       "4801  [{\"credit_id\": \"52fe4ad9c3a368484e16a36b\", \"de...               5   \n",
       "4802  [{\"credit_id\": \"58ce021b9251415a390165d9\", \"de...               8   \n",
       "\n",
       "      crew_members  number_of_directors  \n",
       "4798            11                    1  \n",
       "4799             8                    1  \n",
       "4800            13                    1  \n",
       "4801             2                    1  \n",
       "4802             5                    3  "
      ]
     },
     "execution_count": 16,
     "metadata": {},
     "output_type": "execute_result"
    }
   ],
   "source": [
    "credits.tail()"
   ]
  },
  {
   "cell_type": "markdown",
   "metadata": {},
   "source": [
    "ESERCIZIO PUNTO NOVE number of movies where each language is spoken"
   ]
  },
  {
   "cell_type": "code",
   "execution_count": 17,
   "metadata": {},
   "outputs": [
    {
     "data": {
      "text/plain": [
       "[('English', 4485),\n",
       " ('Français', 437),\n",
       " ('Español', 351),\n",
       " ('Deutsch', 262),\n",
       " ('Italiano', 188)]"
      ]
     },
     "execution_count": 17,
     "metadata": {},
     "output_type": "execute_result"
    }
   ],
   "source": [
    "language_list = []\n",
    "\n",
    "for i in range(len(movies)):\n",
    "    intermedio = json.loads(movies['spoken_languages'][i])\n",
    "    for j in range(len(intermedio)):\n",
    "        scatola = intermedio[j].get('name')\n",
    "        language_list.append(scatola)\n",
    "    \n",
    "#ora basta contare gli elementi nella lista\n",
    "from collections import Counter\n",
    "conta = Counter()\n",
    "for item in language_list:\n",
    "    conta[item] += 1\n",
    "conta.most_common(5)"
   ]
  },
  {
   "cell_type": "markdown",
   "metadata": {
    "collapsed": true
   },
   "source": [
    "ESERCIZIO PUNTO DIECI overall revenue for each company and decade"
   ]
  },
  {
   "cell_type": "code",
   "execution_count": 18,
   "metadata": {},
   "outputs": [
    {
     "name": "stderr",
     "output_type": "stream",
     "text": [
      "C:\\Users\\tesot\\AppData\\Local\\Continuum\\anaconda3\\lib\\site-packages\\ipykernel_launcher.py:5: SettingWithCopyWarning: \n",
      "A value is trying to be set on a copy of a slice from a DataFrame.\n",
      "Try using .loc[row_indexer,col_indexer] = value instead\n",
      "\n",
      "See the caveats in the documentation: http://pandas.pydata.org/pandas-docs/stable/indexing.html#indexing-view-versus-copy\n",
      "  \"\"\"\n"
     ]
    }
   ],
   "source": [
    "#creo un subset per facilitare la lettura\n",
    "subs = movies[['original_title','production_companies','release_date','revenue']]\n",
    "#nel dataset c'è un film che non ha ne casa di produzione con anno 2015,\n",
    "#lascio vuoto\n",
    "subs['release_date']=pd.to_datetime(subs['release_date'])"
   ]
  },
  {
   "cell_type": "code",
   "execution_count": 19,
   "metadata": {
    "collapsed": true
   },
   "outputs": [],
   "source": [
    "companies = []\n",
    "revenues = []\n",
    "years = []\n",
    "for i in range(len(subs)):\n",
    "    production_c = json.loads(subs['production_companies'][i])\n",
    "    for k in production_c:\n",
    "        companies.append(k.get('name'))\n",
    "        revenues.append(subs['revenue'][i])\n",
    "        years.append(int(subs['release_date'][i].year))\n",
    "#il metodo più conveniente è creare un dataframe in cui inserisco i dati, serve anche dopo\n",
    "dataf = pd.DataFrame(columns=['company','revenue','year'])\n",
    "dataf['company'], dataf['revenue'], dataf['year'] = companies, revenues, years \n",
    "#ora devo raggruppare gli anni per decadi e per company"
   ]
  },
  {
   "cell_type": "code",
   "execution_count": 20,
   "metadata": {},
   "outputs": [
    {
     "data": {
      "text/html": [
       "<div>\n",
       "<style>\n",
       "    .dataframe thead tr:only-child th {\n",
       "        text-align: right;\n",
       "    }\n",
       "\n",
       "    .dataframe thead th {\n",
       "        text-align: left;\n",
       "    }\n",
       "\n",
       "    .dataframe tbody tr th {\n",
       "        vertical-align: top;\n",
       "    }\n",
       "</style>\n",
       "<table border=\"1\" class=\"dataframe\">\n",
       "  <thead>\n",
       "    <tr style=\"text-align: right;\">\n",
       "      <th></th>\n",
       "      <th>company</th>\n",
       "      <th>revenue</th>\n",
       "      <th>year</th>\n",
       "    </tr>\n",
       "  </thead>\n",
       "  <tbody>\n",
       "    <tr>\n",
       "      <th>0</th>\n",
       "      <td>Ingenious Film Partners</td>\n",
       "      <td>2787965087</td>\n",
       "      <td>2009</td>\n",
       "    </tr>\n",
       "    <tr>\n",
       "      <th>1</th>\n",
       "      <td>Twentieth Century Fox Film Corporation</td>\n",
       "      <td>2787965087</td>\n",
       "      <td>2009</td>\n",
       "    </tr>\n",
       "    <tr>\n",
       "      <th>2</th>\n",
       "      <td>Dune Entertainment</td>\n",
       "      <td>2787965087</td>\n",
       "      <td>2009</td>\n",
       "    </tr>\n",
       "    <tr>\n",
       "      <th>3</th>\n",
       "      <td>Lightstorm Entertainment</td>\n",
       "      <td>2787965087</td>\n",
       "      <td>2009</td>\n",
       "    </tr>\n",
       "    <tr>\n",
       "      <th>4</th>\n",
       "      <td>Walt Disney Pictures</td>\n",
       "      <td>961000000</td>\n",
       "      <td>2007</td>\n",
       "    </tr>\n",
       "  </tbody>\n",
       "</table>\n",
       "</div>"
      ],
      "text/plain": [
       "                                  company     revenue  year\n",
       "0                 Ingenious Film Partners  2787965087  2009\n",
       "1  Twentieth Century Fox Film Corporation  2787965087  2009\n",
       "2                      Dune Entertainment  2787965087  2009\n",
       "3                Lightstorm Entertainment  2787965087  2009\n",
       "4                    Walt Disney Pictures   961000000  2007"
      ]
     },
     "execution_count": 20,
     "metadata": {},
     "output_type": "execute_result"
    }
   ],
   "source": [
    "dataf.head()"
   ]
  },
  {
   "cell_type": "code",
   "execution_count": 21,
   "metadata": {
    "scrolled": false
   },
   "outputs": [
    {
     "data": {
      "text/plain": [
       "company                          year\n",
       "\"DIA\" Productions GmbH & Co. KG  2000    44350926\n",
       "1.85 Films                       2010       98017\n",
       "10 West Studios                  2010           0\n",
       "100 Bares                        2000    33965843\n",
       "                                 2010    24000000\n",
       "Name: revenue, dtype: int64"
      ]
     },
     "execution_count": 21,
     "metadata": {},
     "output_type": "execute_result"
    }
   ],
   "source": [
    "dataf.groupby(['company',(dataf['year']//10)*10])['revenue'].sum().head()"
   ]
  },
  {
   "cell_type": "markdown",
   "metadata": {
    "collapsed": true
   },
   "source": [
    "ESERCIZIO PUNTO UNDICI for each decade compute the company with max revenue"
   ]
  },
  {
   "cell_type": "code",
   "execution_count": 22,
   "metadata": {
    "scrolled": false
   },
   "outputs": [
    {
     "data": {
      "text/plain": [
       "year  company                  \n",
       "1910  Triangle Film Corporation     8394751\n",
       "      Wark Producing Corp.          8394751\n",
       "1920  Metro-Goldwyn-Mayer (MGM)    22000000\n",
       "      Nero Films                          0\n",
       "      Paramount Pictures             650422\n",
       "Name: revenue, dtype: int64"
      ]
     },
     "execution_count": 22,
     "metadata": {},
     "output_type": "execute_result"
    }
   ],
   "source": [
    "grouped = dataf.groupby([(dataf['year']//10)*10,'company'])['revenue'].max()\n",
    "grouped.head(5)"
   ]
  },
  {
   "cell_type": "code",
   "execution_count": 23,
   "metadata": {
    "scrolled": true
   },
   "outputs": [
    {
     "data": {
      "text/plain": [
       "{(1910, 'Triangle Film Corporation'): 8394751,\n",
       " (1910, 'Wark Producing Corp.'): 8394751,\n",
       " (1920, 'Metro-Goldwyn-Mayer (MGM)'): 22000000,\n",
       " (1930, 'Metro-Goldwyn-Mayer (MGM)'): 400176459,\n",
       " (1930, 'Selznick International Pictures'): 400176459,\n",
       " (1940, 'Walt Disney Productions'): 267447150,\n",
       " (1950, 'Paramount Pictures'): 36000000,\n",
       " (1950, 'Twentieth Century Fox Film Corporation'): 36000000,\n",
       " (1960, 'Argyle Enterprises'): 286214286,\n",
       " (1960, 'Robert Wise Productions'): 286214286,\n",
       " (1960, 'Twentieth Century Fox Film Corporation'): 286214286,\n",
       " (1970, 'Lucasfilm'): 775398007,\n",
       " (1970, 'Twentieth Century Fox Film Corporation'): 775398007,\n",
       " (1980, 'Amblin Entertainment'): 792910554,\n",
       " (1980, 'Universal Pictures'): 792910554,\n",
       " (1990, 'Lightstorm Entertainment'): 1845034188,\n",
       " (1990, 'Paramount Pictures'): 1845034188,\n",
       " (1990, 'Twentieth Century Fox Film Corporation'): 1845034188,\n",
       " (2000, 'Dune Entertainment'): 2787965087,\n",
       " (2000, 'Ingenious Film Partners'): 2787965087,\n",
       " (2000, 'Lightstorm Entertainment'): 2787965087,\n",
       " (2000, 'Twentieth Century Fox Film Corporation'): 2787965087,\n",
       " (2010, 'Marvel Studios'): 1519557910,\n",
       " (2010, 'Paramount Pictures'): 1519557910}"
      ]
     },
     "execution_count": 23,
     "metadata": {},
     "output_type": "execute_result"
    }
   ],
   "source": [
    "#estraggo i valori indice relativi all'anno\n",
    "indice_anno = grouped.index.levels[0].values\n",
    "indice = []\n",
    "valore = []\n",
    "\n",
    "for i in range(len(indice_anno)):\n",
    "    part_anno = grouped.loc[grouped.index.get_level_values('year') == indice_anno[i]]\n",
    "    max_rev = part_anno.max()\n",
    "    tempo_ = part_anno[part_anno == max_rev]\n",
    "    for a in range(len(tempo_)):\n",
    "        indice.append(tempo_.index[a])\n",
    "        valore.append(tempo_.values[a])\n",
    "#ottengo cosi le aziende che per ogni decennio hanno avuto una revenue tra le più alte\n",
    "final_dict = dict(zip(indice, valore))\n",
    "final_dict\n",
    "    "
   ]
  },
  {
   "cell_type": "markdown",
   "metadata": {},
   "source": [
    "ESERCIZIO DODICI for each year how many movies have revenue < budget"
   ]
  },
  {
   "cell_type": "code",
   "execution_count": 24,
   "metadata": {},
   "outputs": [
    {
     "name": "stderr",
     "output_type": "stream",
     "text": [
      "C:\\Users\\tesot\\AppData\\Local\\Continuum\\anaconda3\\lib\\site-packages\\ipykernel_launcher.py:3: SettingWithCopyWarning: \n",
      "A value is trying to be set on a copy of a slice from a DataFrame.\n",
      "Try using .loc[row_indexer,col_indexer] = value instead\n",
      "\n",
      "See the caveats in the documentation: http://pandas.pydata.org/pandas-docs/stable/indexing.html#indexing-view-versus-copy\n",
      "  This is separate from the ipykernel package so we can avoid doing imports until\n"
     ]
    }
   ],
   "source": [
    "#ancora una volta per comodità restringo il dataset\n",
    "ultimo = movies[['budget','revenue','release_date','original_title']]\n",
    "ultimo['anno'] = ultimo['release_date'].str.split('-', expand=True)[0]"
   ]
  },
  {
   "cell_type": "code",
   "execution_count": 25,
   "metadata": {},
   "outputs": [
    {
     "data": {
      "text/plain": [
       "anno\n",
       "1927    1\n",
       "1947    1\n",
       "1948    1\n",
       "1954    1\n",
       "1962    1\n",
       "dtype: int64"
      ]
     },
     "execution_count": 25,
     "metadata": {},
     "output_type": "execute_result"
    }
   ],
   "source": [
    "ultimo[ultimo['revenue'] < ultimo['budget']].groupby('anno').size().head()#.sort_values(ascending=False).head()"
   ]
  }
 ],
 "metadata": {
  "kernelspec": {
   "display_name": "Python 3",
   "language": "python",
   "name": "python3"
  },
  "language_info": {
   "codemirror_mode": {
    "name": "ipython",
    "version": 3
   },
   "file_extension": ".py",
   "mimetype": "text/x-python",
   "name": "python",
   "nbconvert_exporter": "python",
   "pygments_lexer": "ipython3",
   "version": "3.6.3"
  }
 },
 "nbformat": 4,
 "nbformat_minor": 2
}
